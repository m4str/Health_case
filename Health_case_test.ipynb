{
 "cells": [
  {
   "cell_type": "code",
   "execution_count": 1,
   "id": "cf9f0c35",
   "metadata": {},
   "outputs": [],
   "source": [
    "import pandas as pd\n",
    "import numpy as np\n",
    "import seaborn as sns\n",
    "import matplotlib.pyplot as plt\n",
    "import shap\n",
    "\n",
    "from catboost import CatBoostRegressor\n",
    "from sklearn.metrics import mean_absolute_error\n",
    "from tqdm.notebook import tqdm as tqdm"
   ]
  },
  {
   "cell_type": "code",
   "execution_count": 2,
   "id": "0cc73cc5",
   "metadata": {},
   "outputs": [
    {
     "name": "stdout",
     "output_type": "stream",
     "text": [
      "q1: 14 q9: 54388\n",
      "\n",
      "isna_sum: 0.0\n",
      "\n",
      "df_shape is:  (46734, 8)\n",
      "MONTH                        int64\n",
      "SERVICE_CATEGORY            object\n",
      "CLAIM_SPECIALTY             object\n",
      "PAYER                       object\n",
      "PAID_AMOUNT                  int64\n",
      "date                datetime64[ns]\n",
      "month                       object\n",
      "SEASON                      object\n",
      "dtype: object\n"
     ]
    },
    {
     "data": {
      "text/html": [
       "<div>\n",
       "<style scoped>\n",
       "    .dataframe tbody tr th:only-of-type {\n",
       "        vertical-align: middle;\n",
       "    }\n",
       "\n",
       "    .dataframe tbody tr th {\n",
       "        vertical-align: top;\n",
       "    }\n",
       "\n",
       "    .dataframe thead th {\n",
       "        text-align: right;\n",
       "    }\n",
       "</style>\n",
       "<table border=\"1\" class=\"dataframe\">\n",
       "  <thead>\n",
       "    <tr style=\"text-align: right;\">\n",
       "      <th></th>\n",
       "      <th>MONTH</th>\n",
       "      <th>SERVICE_CATEGORY</th>\n",
       "      <th>CLAIM_SPECIALTY</th>\n",
       "      <th>PAYER</th>\n",
       "      <th>PAID_AMOUNT</th>\n",
       "      <th>date</th>\n",
       "      <th>month</th>\n",
       "      <th>SEASON</th>\n",
       "    </tr>\n",
       "  </thead>\n",
       "  <tbody>\n",
       "    <tr>\n",
       "      <th>4</th>\n",
       "      <td>201801</td>\n",
       "      <td>AncillaryFFS</td>\n",
       "      <td>ACH</td>\n",
       "      <td>Payer W</td>\n",
       "      <td>151</td>\n",
       "      <td>2018-01-01</td>\n",
       "      <td>1</td>\n",
       "      <td>winter</td>\n",
       "    </tr>\n",
       "    <tr>\n",
       "      <th>6</th>\n",
       "      <td>201801</td>\n",
       "      <td>AncillaryFFS</td>\n",
       "      <td>ADVANCED RN PRACT</td>\n",
       "      <td>Payer CA</td>\n",
       "      <td>443</td>\n",
       "      <td>2018-01-01</td>\n",
       "      <td>1</td>\n",
       "      <td>winter</td>\n",
       "    </tr>\n",
       "    <tr>\n",
       "      <th>7</th>\n",
       "      <td>201801</td>\n",
       "      <td>AncillaryFFS</td>\n",
       "      <td>AMBULANCE</td>\n",
       "      <td>Payer CA</td>\n",
       "      <td>14890</td>\n",
       "      <td>2018-01-01</td>\n",
       "      <td>1</td>\n",
       "      <td>winter</td>\n",
       "    </tr>\n",
       "    <tr>\n",
       "      <th>8</th>\n",
       "      <td>201801</td>\n",
       "      <td>AncillaryFFS</td>\n",
       "      <td>AMBULANCE</td>\n",
       "      <td>Payer CO</td>\n",
       "      <td>1722</td>\n",
       "      <td>2018-01-01</td>\n",
       "      <td>1</td>\n",
       "      <td>winter</td>\n",
       "    </tr>\n",
       "    <tr>\n",
       "      <th>9</th>\n",
       "      <td>201801</td>\n",
       "      <td>AncillaryFFS</td>\n",
       "      <td>AMBULANCE</td>\n",
       "      <td>Payer F</td>\n",
       "      <td>36108</td>\n",
       "      <td>2018-01-01</td>\n",
       "      <td>1</td>\n",
       "      <td>winter</td>\n",
       "    </tr>\n",
       "  </tbody>\n",
       "</table>\n",
       "</div>"
      ],
      "text/plain": [
       "    MONTH SERVICE_CATEGORY    CLAIM_SPECIALTY     PAYER  PAID_AMOUNT  \\\n",
       "4  201801     AncillaryFFS                ACH   Payer W          151   \n",
       "6  201801     AncillaryFFS  ADVANCED RN PRACT  Payer CA          443   \n",
       "7  201801     AncillaryFFS          AMBULANCE  Payer CA        14890   \n",
       "8  201801     AncillaryFFS          AMBULANCE  Payer CO         1722   \n",
       "9  201801     AncillaryFFS          AMBULANCE   Payer F        36108   \n",
       "\n",
       "        date month  SEASON  \n",
       "4 2018-01-01     1  winter  \n",
       "6 2018-01-01     1  winter  \n",
       "7 2018-01-01     1  winter  \n",
       "8 2018-01-01     1  winter  \n",
       "9 2018-01-01     1  winter  "
      ]
     },
     "execution_count": 2,
     "metadata": {},
     "output_type": "execute_result"
    }
   ],
   "source": [
    "\"\"\"\n",
    "MONTH - a month claims were lodged\n",
    "SERVICE_CATEGORY - a department that provided services to patients\n",
    "CLAIM_SPECIALTY - a type of medical services by an official classification system\n",
    "PAYER - an insurance company\n",
    "PAID_AMOUNT - sum of expenses (claims), $\n",
    "\"\"\"\n",
    "\n",
    "def wrangle(path):\n",
    "    '''\n",
    "    Function created after data exploration and \n",
    "    data quality analysis in each column.\n",
    "\n",
    "    I saved PCPEncounter with only 42 observation because \n",
    "    it has can enough data for analysis\n",
    "    '''\n",
    "    \n",
    "    df = pd.read_csv(path)\n",
    "    \n",
    "    # drop bad date and rare date in column 'MONTH'\n",
    "    mask1 = df['MONTH'] != 201900\n",
    "    mask2 = df['MONTH'] != 202007\n",
    "    df = df[mask1 & mask2]\n",
    "    \n",
    "    # date to datetime\n",
    "    df['date'] = pd.to_datetime(df['MONTH'], format='%Y%m') # , errors='coerce'\n",
    "    \n",
    "    # replace the same service category\n",
    "    df['SERVICE_CATEGORY'] = df['SERVICE_CATEGORY'].replace(\"SpecialistsFFS\",'SpecialistFFS')    \n",
    "    \n",
    "    # drop NaN CLAIM_SPECIALTY\n",
    "    df.dropna(subset=['CLAIM_SPECIALTY'], inplace=True)\n",
    "    \n",
    "    # choose only one type of payments\n",
    "    df = df[df.PAID_AMOUNT > 0]\n",
    "    df['PAID_AMOUNT'] = df['PAID_AMOUNT'].astype('int64')\n",
    "    \n",
    "    # choose payments between quantiles without outliers\n",
    "    q1, q9 = df.PAID_AMOUNT.quantile([0.01, 0.99])\n",
    "    df = df[df.PAID_AMOUNT.between(q1,q9)]\n",
    "    \n",
    "    # add season and month as a category\n",
    "    df['month'] = df['date'].dt.month.astype(str)\n",
    "                   \n",
    "    df['SEASON'] = (df['date'].dt.month\n",
    "                   .astype(str)\n",
    "                   .replace(['12','1','2'],'winter')\n",
    "                   .replace(['3','4','5'],'spring')\n",
    "                   .replace(['6','7','8'],'summer')\n",
    "                   .replace(['9','10','11'],'autumn')\n",
    "                   )  \n",
    "    \n",
    "    print('q1:', round(q1), 'q9:', round(q9))\n",
    "    print()\n",
    "    print('isna_sum:', df.isna().mean().sum())\n",
    "    print()\n",
    "    print('df_shape is: ', df.shape)\n",
    "    \n",
    "    print(df.dtypes)\n",
    "    \n",
    "    return df\n",
    "    \n",
    "path = \"claims_sample_data.csv\"\n",
    "\n",
    "df = wrangle(path)\n",
    "df.head(5)"
   ]
  },
  {
   "cell_type": "code",
   "execution_count": 3,
   "id": "e8cf8781",
   "metadata": {},
   "outputs": [
    {
     "data": {
      "text/plain": [
       "min   2018-01-01\n",
       "max   2020-06-01\n",
       "Name: date, dtype: datetime64[ns]"
      ]
     },
     "execution_count": 3,
     "metadata": {},
     "output_type": "execute_result"
    }
   ],
   "source": [
    "df['date'].agg(['min', 'max'])"
   ]
  },
  {
   "cell_type": "code",
   "execution_count": 4,
   "id": "e80da608",
   "metadata": {},
   "outputs": [
    {
     "data": {
      "text/plain": [
       "<AxesSubplot:xlabel='date'>"
      ]
     },
     "execution_count": 4,
     "metadata": {},
     "output_type": "execute_result"
    },
    {
     "data": {
      "image/png": "[encoded data removed]",
      "text/plain": [
       "<Figure size 432x288 with 1 Axes>"
      ]
     },
     "metadata": {
      "needs_background": "light"
     },
     "output_type": "display_data"
    }
   ],
   "source": [
    "df.groupby('date')['PAID_AMOUNT'].agg(['count', 'mean']).plot()"
   ]
  },
  {
   "cell_type": "code",
   "execution_count": 5,
   "id": "84d2cc43",
   "metadata": {},
   "outputs": [
    {
     "data": {
      "text/html": [
       "<div>\n",
       "<style scoped>\n",
       "    .dataframe tbody tr th:only-of-type {\n",
       "        vertical-align: middle;\n",
       "    }\n",
       "\n",
       "    .dataframe tbody tr th {\n",
       "        vertical-align: top;\n",
       "    }\n",
       "\n",
       "    .dataframe thead th {\n",
       "        text-align: right;\n",
       "    }\n",
       "</style>\n",
       "<table border=\"1\" class=\"dataframe\">\n",
       "  <thead>\n",
       "    <tr style=\"text-align: right;\">\n",
       "      <th></th>\n",
       "      <th>count</th>\n",
       "      <th>mean</th>\n",
       "      <th>sum</th>\n",
       "    </tr>\n",
       "    <tr>\n",
       "      <th>CLAIM_SPECIALTY</th>\n",
       "      <th></th>\n",
       "      <th></th>\n",
       "      <th></th>\n",
       "    </tr>\n",
       "  </thead>\n",
       "  <tbody>\n",
       "    <tr>\n",
       "      <th>INTERNAL MEDICINE</th>\n",
       "      <td>1084</td>\n",
       "      <td>3990.092251</td>\n",
       "      <td>4325260</td>\n",
       "    </tr>\n",
       "    <tr>\n",
       "      <th>FAMILY PRACTICE</th>\n",
       "      <td>998</td>\n",
       "      <td>1869.682365</td>\n",
       "      <td>1865943</td>\n",
       "    </tr>\n",
       "    <tr>\n",
       "      <th>GENERAL SURGERY</th>\n",
       "      <td>798</td>\n",
       "      <td>1869.350877</td>\n",
       "      <td>1491742</td>\n",
       "    </tr>\n",
       "    <tr>\n",
       "      <th>GENERAL PRACTICE</th>\n",
       "      <td>777</td>\n",
       "      <td>1263.491634</td>\n",
       "      <td>981733</td>\n",
       "    </tr>\n",
       "    <tr>\n",
       "      <th>RADIOLOGY</th>\n",
       "      <td>749</td>\n",
       "      <td>3570.702270</td>\n",
       "      <td>2674456</td>\n",
       "    </tr>\n",
       "    <tr>\n",
       "      <th>...</th>\n",
       "      <td>...</td>\n",
       "      <td>...</td>\n",
       "      <td>...</td>\n",
       "    </tr>\n",
       "    <tr>\n",
       "      <th>Neuropsychology</th>\n",
       "      <td>1</td>\n",
       "      <td>224.000000</td>\n",
       "      <td>224</td>\n",
       "    </tr>\n",
       "    <tr>\n",
       "      <th>SPHEAR</th>\n",
       "      <td>1</td>\n",
       "      <td>155.000000</td>\n",
       "      <td>155</td>\n",
       "    </tr>\n",
       "    <tr>\n",
       "      <th>Neonatology</th>\n",
       "      <td>1</td>\n",
       "      <td>606.000000</td>\n",
       "      <td>606</td>\n",
       "    </tr>\n",
       "    <tr>\n",
       "      <th>NPONC</th>\n",
       "      <td>1</td>\n",
       "      <td>58.000000</td>\n",
       "      <td>58</td>\n",
       "    </tr>\n",
       "    <tr>\n",
       "      <th>X - Technician/Technologist - Optician</th>\n",
       "      <td>1</td>\n",
       "      <td>35.000000</td>\n",
       "      <td>35</td>\n",
       "    </tr>\n",
       "  </tbody>\n",
       "</table>\n",
       "<p>859 rows × 3 columns</p>\n",
       "</div>"
      ],
      "text/plain": [
       "                                        count         mean      sum\n",
       "CLAIM_SPECIALTY                                                    \n",
       "INTERNAL MEDICINE                        1084  3990.092251  4325260\n",
       "FAMILY PRACTICE                           998  1869.682365  1865943\n",
       "GENERAL SURGERY                           798  1869.350877  1491742\n",
       "GENERAL PRACTICE                          777  1263.491634   981733\n",
       "RADIOLOGY                                 749  3570.702270  2674456\n",
       "...                                       ...          ...      ...\n",
       "Neuropsychology                             1   224.000000      224\n",
       "SPHEAR                                      1   155.000000      155\n",
       "Neonatology                                 1   606.000000      606\n",
       "NPONC                                       1    58.000000       58\n",
       "X - Technician/Technologist - Optician      1    35.000000       35\n",
       "\n",
       "[859 rows x 3 columns]"
      ]
     },
     "execution_count": 5,
     "metadata": {},
     "output_type": "execute_result"
    }
   ],
   "source": [
    "(df.groupby(['CLAIM_SPECIALTY'])['PAID_AMOUNT']\n",
    " .agg(['count', 'mean', 'sum'])\n",
    " .sort_values(by='count', ascending=False)\n",
    ")"
   ]
  },
  {
   "cell_type": "code",
   "execution_count": 6,
   "id": "e657fb8c",
   "metadata": {},
   "outputs": [
    {
     "name": "stdout",
     "output_type": "stream",
     "text": [
      "450\n"
     ]
    },
    {
     "data": {
      "text/html": [
       "<div>\n",
       "<style scoped>\n",
       "    .dataframe tbody tr th:only-of-type {\n",
       "        vertical-align: middle;\n",
       "    }\n",
       "\n",
       "    .dataframe tbody tr th {\n",
       "        vertical-align: top;\n",
       "    }\n",
       "\n",
       "    .dataframe thead th {\n",
       "        text-align: right;\n",
       "    }\n",
       "</style>\n",
       "<table border=\"1\" class=\"dataframe\">\n",
       "  <thead>\n",
       "    <tr style=\"text-align: right;\">\n",
       "      <th></th>\n",
       "      <th>count</th>\n",
       "      <th>mean</th>\n",
       "    </tr>\n",
       "    <tr>\n",
       "      <th>CLAIM_SPECIALTY</th>\n",
       "      <th></th>\n",
       "      <th></th>\n",
       "    </tr>\n",
       "  </thead>\n",
       "  <tbody>\n",
       "    <tr>\n",
       "      <th>INTERNAL MEDICINE</th>\n",
       "      <td>1084</td>\n",
       "      <td>3990.092251</td>\n",
       "    </tr>\n",
       "    <tr>\n",
       "      <th>FAMILY PRACTICE</th>\n",
       "      <td>998</td>\n",
       "      <td>1869.682365</td>\n",
       "    </tr>\n",
       "    <tr>\n",
       "      <th>GENERAL SURGERY</th>\n",
       "      <td>798</td>\n",
       "      <td>1869.350877</td>\n",
       "    </tr>\n",
       "    <tr>\n",
       "      <th>GENERAL PRACTICE</th>\n",
       "      <td>777</td>\n",
       "      <td>1263.491634</td>\n",
       "    </tr>\n",
       "    <tr>\n",
       "      <th>RADIOLOGY</th>\n",
       "      <td>749</td>\n",
       "      <td>3570.702270</td>\n",
       "    </tr>\n",
       "    <tr>\n",
       "      <th>...</th>\n",
       "      <td>...</td>\n",
       "      <td>...</td>\n",
       "    </tr>\n",
       "    <tr>\n",
       "      <th>Internal Medicine - Infectious Disease\\t</th>\n",
       "      <td>11</td>\n",
       "      <td>533.909091</td>\n",
       "    </tr>\n",
       "    <tr>\n",
       "      <th>TRAUMA SURGERY</th>\n",
       "      <td>11</td>\n",
       "      <td>469.090909</td>\n",
       "    </tr>\n",
       "    <tr>\n",
       "      <th>PERSONAL EMERGENCY RESPONSE SYSTEM</th>\n",
       "      <td>11</td>\n",
       "      <td>42.272727</td>\n",
       "    </tr>\n",
       "    <tr>\n",
       "      <th>Surgery (Cardiothoracic)</th>\n",
       "      <td>11</td>\n",
       "      <td>217.545455</td>\n",
       "    </tr>\n",
       "    <tr>\n",
       "      <th>NURSE MIDWIFE</th>\n",
       "      <td>11</td>\n",
       "      <td>96.181818</td>\n",
       "    </tr>\n",
       "  </tbody>\n",
       "</table>\n",
       "<p>450 rows × 2 columns</p>\n",
       "</div>"
      ],
      "text/plain": [
       "                                          count         mean\n",
       "CLAIM_SPECIALTY                                             \n",
       "INTERNAL MEDICINE                          1084  3990.092251\n",
       "FAMILY PRACTICE                             998  1869.682365\n",
       "GENERAL SURGERY                             798  1869.350877\n",
       "GENERAL PRACTICE                            777  1263.491634\n",
       "RADIOLOGY                                   749  3570.702270\n",
       "...                                         ...          ...\n",
       "Internal Medicine - Infectious Disease\\t     11   533.909091\n",
       "TRAUMA SURGERY                               11   469.090909\n",
       "PERSONAL EMERGENCY RESPONSE SYSTEM           11    42.272727\n",
       "Surgery (Cardiothoracic)                     11   217.545455\n",
       "NURSE MIDWIFE                                11    96.181818\n",
       "\n",
       "[450 rows x 2 columns]"
      ]
     },
     "execution_count": 6,
     "metadata": {},
     "output_type": "execute_result"
    }
   ],
   "source": [
    "# Select features with enought data\n",
    "top_specialty = (df.groupby('CLAIM_SPECIALTY')['PAID_AMOUNT']\n",
    "             .agg(['count','mean'])\n",
    "             .sort_values(by='count', ascending=False)\n",
    "            )\n",
    "top_specialty = top_specialty[top_specialty['count'] > 10]\n",
    "print(len(top_specialty))\n",
    "top_specialty"
   ]
  },
  {
   "cell_type": "markdown",
   "id": "c4977538",
   "metadata": {},
   "source": [
    "# Model"
   ]
  },
  {
   "cell_type": "code",
   "execution_count": 7,
   "id": "3e92830f",
   "metadata": {},
   "outputs": [
    {
     "data": {
      "text/plain": [
       "Index(['MONTH', 'SERVICE_CATEGORY', 'CLAIM_SPECIALTY', 'PAYER', 'PAID_AMOUNT',\n",
       "       'date', 'month', 'SEASON'],\n",
       "      dtype='object')"
      ]
     },
     "execution_count": 7,
     "metadata": {},
     "output_type": "execute_result"
    }
   ],
   "source": [
    "df.columns"
   ]
  },
  {
   "cell_type": "code",
   "execution_count": 8,
   "id": "8aa6a244",
   "metadata": {},
   "outputs": [],
   "source": [
    "# Create the feature matrix and the target vector\n",
    "features = ['SERVICE_CATEGORY', 'CLAIM_SPECIALTY', 'PAYER', 'SEASON']\n",
    "target = \"PAID_AMOUNT\"\n",
    "\n",
    "train = df.sample(frac=0.7,random_state=42).copy()\n",
    "val = df[~df.index.isin(train.index)].copy()"
   ]
  },
  {
   "cell_type": "code",
   "execution_count": 14,
   "id": "98f2d458",
   "metadata": {},
   "outputs": [
    {
     "name": "stdout",
     "output_type": "stream",
     "text": [
      "Mean payment: 1934\n",
      "Baseline MAE: 2097\n"
     ]
    }
   ],
   "source": [
    "# Baseline model\n",
    "y_mean = train['PAID_AMOUNT'].mean()\n",
    "y_pred_baseline = [y_mean] * len(train)\n",
    "mae_baseline = mean_absolute_error(train[target], y_pred_baseline)\n",
    "\n",
    "print(\"Mean payment:\", round(y_mean))\n",
    "print(\"Baseline MAE:\", round(mae_baseline))"
   ]
  },
  {
   "cell_type": "code",
   "execution_count": 15,
   "id": "9400e15b",
   "metadata": {},
   "outputs": [
    {
     "name": "stdout",
     "output_type": "stream",
     "text": [
      "Learning rate set to 0.088046\n",
      "0:\tlearn: 4711.7007232\ttest: 4803.0938571\tbest: 4803.0938571 (0)\ttotal: 72.5ms\tremaining: 1m 12s\n",
      "100:\tlearn: 2895.9410102\ttest: 2554.7146897\tbest: 2554.7146897 (100)\ttotal: 531ms\tremaining: 4.73s\n",
      "200:\tlearn: 2631.2744275\ttest: 2324.0269451\tbest: 2323.7947078 (199)\ttotal: 965ms\tremaining: 3.84s\n",
      "300:\tlearn: 2515.6803277\ttest: 2233.2157887\tbest: 2233.2157887 (300)\ttotal: 1.47s\tremaining: 3.42s\n",
      "400:\tlearn: 2458.2302201\ttest: 2198.8000955\tbest: 2198.7682659 (398)\ttotal: 1.92s\tremaining: 2.87s\n",
      "500:\tlearn: 2391.6878836\ttest: 2161.9745591\tbest: 2161.9745591 (500)\ttotal: 2.37s\tremaining: 2.36s\n",
      "600:\tlearn: 2327.3518973\ttest: 2132.2744275\tbest: 2132.1788137 (597)\ttotal: 2.84s\tremaining: 1.89s\n",
      "700:\tlearn: 2285.3408865\ttest: 2119.0970351\tbest: 2118.3639517 (693)\ttotal: 3.29s\tremaining: 1.4s\n",
      "800:\tlearn: 2236.5959963\ttest: 2101.4476356\tbest: 2100.6166834 (794)\ttotal: 3.74s\tremaining: 930ms\n",
      "900:\tlearn: 2201.0000856\ttest: 2097.0532561\tbest: 2097.0532561 (900)\ttotal: 4.2s\tremaining: 462ms\n",
      "999:\tlearn: 2161.7128489\ttest: 2088.0297616\tbest: 2087.9985848 (998)\ttotal: 4.65s\tremaining: 0us\n",
      "\n",
      "bestTest = 2087.998585\n",
      "bestIteration = 998\n",
      "\n",
      "Shrink model to first 999 iterations.\n",
      "Training MAE: 891.9562711746772\n"
     ]
    }
   ],
   "source": [
    "# CatBoostRegressor\n",
    "model_1 = CatBoostRegressor(verbose=100, \n",
    "                          eval_metric='RMSE',\n",
    "                          random_state=42\n",
    "                         )\n",
    "\n",
    "model_1.fit(train[features], train[target],\n",
    "          cat_features=features,\n",
    "          eval_set=(val[features],val[target])\n",
    "         )\n",
    "\n",
    "y_pred_training = model_1.predict(val[features])\n",
    "print(\"Training MAE:\", mean_absolute_error(val[target], y_pred_training))"
   ]
  },
  {
   "cell_type": "markdown",
   "id": "f3fb219c",
   "metadata": {},
   "source": [
    "## MAE is reduced, so the model can be exist and has explanation power"
   ]
  },
  {
   "cell_type": "code",
   "execution_count": 16,
   "id": "e929eda5",
   "metadata": {},
   "outputs": [
    {
     "data": {
      "text/html": [
       "<div>\n",
       "<style scoped>\n",
       "    .dataframe tbody tr th:only-of-type {\n",
       "        vertical-align: middle;\n",
       "    }\n",
       "\n",
       "    .dataframe tbody tr th {\n",
       "        vertical-align: top;\n",
       "    }\n",
       "\n",
       "    .dataframe thead th {\n",
       "        text-align: right;\n",
       "    }\n",
       "</style>\n",
       "<table border=\"1\" class=\"dataframe\">\n",
       "  <thead>\n",
       "    <tr style=\"text-align: right;\">\n",
       "      <th></th>\n",
       "      <th>feature</th>\n",
       "      <th>fi</th>\n",
       "    </tr>\n",
       "  </thead>\n",
       "  <tbody>\n",
       "    <tr>\n",
       "      <th>1</th>\n",
       "      <td>CLAIM_SPECIALTY</td>\n",
       "      <td>40.092075</td>\n",
       "    </tr>\n",
       "    <tr>\n",
       "      <th>0</th>\n",
       "      <td>SERVICE_CATEGORY</td>\n",
       "      <td>29.531623</td>\n",
       "    </tr>\n",
       "    <tr>\n",
       "      <th>2</th>\n",
       "      <td>PAYER</td>\n",
       "      <td>28.356384</td>\n",
       "    </tr>\n",
       "    <tr>\n",
       "      <th>3</th>\n",
       "      <td>SEASON</td>\n",
       "      <td>2.019918</td>\n",
       "    </tr>\n",
       "  </tbody>\n",
       "</table>\n",
       "</div>"
      ],
      "text/plain": [
       "            feature         fi\n",
       "1   CLAIM_SPECIALTY  40.092075\n",
       "0  SERVICE_CATEGORY  29.531623\n",
       "2             PAYER  28.356384\n",
       "3            SEASON   2.019918"
      ]
     },
     "execution_count": 16,
     "metadata": {},
     "output_type": "execute_result"
    }
   ],
   "source": [
    "# power of each feature\n",
    "fi = pd.DataFrame({'feature':features,'fi':model_1.feature_importances_})\n",
    "fi = fi.sort_values('fi',ascending=False)\n",
    "fi"
   ]
  },
  {
   "cell_type": "code",
   "execution_count": null,
   "id": "ca72ce23",
   "metadata": {},
   "outputs": [],
   "source": [
    "# season is not very important but it is improving the model"
   ]
  },
  {
   "cell_type": "code",
   "execution_count": 17,
   "id": "720f8769",
   "metadata": {},
   "outputs": [
    {
     "data": {
      "image/png": "[encoded data removed]",
      "text/plain": [
       "<Figure size 576x223.2 with 2 Axes>"
      ]
     },
     "metadata": {
      "needs_background": "light"
     },
     "output_type": "display_data"
    }
   ],
   "source": [
    "# shap plotting\n",
    "explainer = shap.Explainer(model_1)\n",
    "shap_values = explainer(val[features])\n",
    "\n",
    "shap.summary_plot(shap_values,\n",
    "                 val[features],\n",
    "                 max_display = 50)"
   ]
  },
  {
   "cell_type": "markdown",
   "id": "749292cc",
   "metadata": {},
   "source": [
    "# Boostrap model"
   ]
  },
  {
   "cell_type": "code",
   "execution_count": 18,
   "id": "9e1e77b6",
   "metadata": {},
   "outputs": [
    {
     "data": {
      "image/png": "[encoded data removed]",
      "text/plain": [
       "<Figure size 432x288 with 1 Axes>"
      ]
     },
     "metadata": {
      "needs_background": "light"
     },
     "output_type": "display_data"
    }
   ],
   "source": [
    "# The data don't have normal distribution\n",
    "df['PAID_AMOUNT'].hist();"
   ]
  },
  {
   "cell_type": "code",
   "execution_count": 19,
   "id": "fc420f34",
   "metadata": {},
   "outputs": [
    {
     "data": {
      "application/vnd.jupyter.widget-view+json": {
       "model_id": "d45c44d18fa64309a59a3f517469cb91",
       "version_major": 2,
       "version_minor": 0
      },
      "text/plain": [
       "  0%|          | 0/10000 [00:00<?, ?it/s]"
      ]
     },
     "metadata": {},
     "output_type": "display_data"
    },
    {
     "data": {
      "image/png": "[encoded data removed]",
      "text/plain": [
       "<Figure size 432x288 with 1 Axes>"
      ]
     },
     "metadata": {
      "needs_background": "light"
     },
     "output_type": "display_data"
    }
   ],
   "source": [
    "# boostrap all data set\n",
    "my_samples = []\n",
    "\n",
    "for _ in tqdm(range(10000)):\n",
    "    x = np.random.choice(df['PAID_AMOUNT'], size=round(len(df['PAID_AMOUNT'])), replace=True)\n",
    "    my_samples.append(x.mean())\n",
    "    \n",
    "plt.hist(my_samples, alpha=0.5);"
   ]
  },
  {
   "cell_type": "code",
   "execution_count": 20,
   "id": "d7eef9e2",
   "metadata": {},
   "outputs": [],
   "source": [
    "# create diction from unique features for loop \n",
    "df_top = df[df['CLAIM_SPECIALTY'].isin(top_specialty.index)]\n",
    "df_top = df_top[['SERVICE_CATEGORY', 'CLAIM_SPECIALTY', 'PAYER']].drop_duplicates()\n",
    "dict_ = df_top.T.to_dict()"
   ]
  },
  {
   "cell_type": "code",
   "execution_count": 21,
   "id": "7f45d2e0",
   "metadata": {},
   "outputs": [
    {
     "data": {
      "application/vnd.jupyter.widget-view+json": {
       "model_id": "7261530fa8524ae98bf470903ee7b436",
       "version_major": 2,
       "version_minor": 0
      },
      "text/plain": [
       "  0%|          | 0/3213 [00:00<?, ?it/s]"
      ]
     },
     "metadata": {},
     "output_type": "display_data"
    }
   ],
   "source": [
    "# boostrap features in df\n",
    "my_lst = []\n",
    "\n",
    "for k,v in tqdm(dict_.items()):\n",
    "    lst = []\n",
    "    for i,j in v.items():\n",
    "        lst.append(j)\n",
    "        \n",
    "    t = (df[ (df['SERVICE_CATEGORY'] == lst[0]) & \n",
    "             (df['CLAIM_SPECIALTY'] == lst[1]) & \n",
    "             (df['PAYER'] == lst[2])]\n",
    "        )   \n",
    "    \n",
    "    for _ in range(5000):\n",
    "        x = np.random.choice(t['PAID_AMOUNT'], size=round(len(t['PAID_AMOUNT'])), replace=True)\n",
    "        my_lst.append([lst[0], lst[1], lst[2], x.mean()])"
   ]
  },
  {
   "cell_type": "code",
   "execution_count": 22,
   "id": "4b893f25",
   "metadata": {},
   "outputs": [
    {
     "name": "stdout",
     "output_type": "stream",
     "text": [
      "16065000\n"
     ]
    },
    {
     "data": {
      "text/html": [
       "<div>\n",
       "<style scoped>\n",
       "    .dataframe tbody tr th:only-of-type {\n",
       "        vertical-align: middle;\n",
       "    }\n",
       "\n",
       "    .dataframe tbody tr th {\n",
       "        vertical-align: top;\n",
       "    }\n",
       "\n",
       "    .dataframe thead th {\n",
       "        text-align: right;\n",
       "    }\n",
       "</style>\n",
       "<table border=\"1\" class=\"dataframe\">\n",
       "  <thead>\n",
       "    <tr style=\"text-align: right;\">\n",
       "      <th></th>\n",
       "      <th>SERVICE_CATEGORY</th>\n",
       "      <th>CLAIM_SPECIALTY</th>\n",
       "      <th>PAYER</th>\n",
       "      <th>PAID_AMOUNT</th>\n",
       "    </tr>\n",
       "  </thead>\n",
       "  <tbody>\n",
       "    <tr>\n",
       "      <th>0</th>\n",
       "      <td>AncillaryFFS</td>\n",
       "      <td>ADVANCED RN PRACT</td>\n",
       "      <td>Payer CA</td>\n",
       "      <td>401.500000</td>\n",
       "    </tr>\n",
       "    <tr>\n",
       "      <th>1</th>\n",
       "      <td>AncillaryFFS</td>\n",
       "      <td>ADVANCED RN PRACT</td>\n",
       "      <td>Payer CA</td>\n",
       "      <td>540.071429</td>\n",
       "    </tr>\n",
       "    <tr>\n",
       "      <th>2</th>\n",
       "      <td>AncillaryFFS</td>\n",
       "      <td>ADVANCED RN PRACT</td>\n",
       "      <td>Payer CA</td>\n",
       "      <td>551.500000</td>\n",
       "    </tr>\n",
       "    <tr>\n",
       "      <th>3</th>\n",
       "      <td>AncillaryFFS</td>\n",
       "      <td>ADVANCED RN PRACT</td>\n",
       "      <td>Payer CA</td>\n",
       "      <td>499.392857</td>\n",
       "    </tr>\n",
       "    <tr>\n",
       "      <th>4</th>\n",
       "      <td>AncillaryFFS</td>\n",
       "      <td>ADVANCED RN PRACT</td>\n",
       "      <td>Payer CA</td>\n",
       "      <td>659.821429</td>\n",
       "    </tr>\n",
       "  </tbody>\n",
       "</table>\n",
       "</div>"
      ],
      "text/plain": [
       "  SERVICE_CATEGORY    CLAIM_SPECIALTY     PAYER  PAID_AMOUNT\n",
       "0     AncillaryFFS  ADVANCED RN PRACT  Payer CA   401.500000\n",
       "1     AncillaryFFS  ADVANCED RN PRACT  Payer CA   540.071429\n",
       "2     AncillaryFFS  ADVANCED RN PRACT  Payer CA   551.500000\n",
       "3     AncillaryFFS  ADVANCED RN PRACT  Payer CA   499.392857\n",
       "4     AncillaryFFS  ADVANCED RN PRACT  Payer CA   659.821429"
      ]
     },
     "execution_count": 22,
     "metadata": {},
     "output_type": "execute_result"
    }
   ],
   "source": [
    "# Create df after boostrap\n",
    "my_df = pd.DataFrame(my_lst, columns=['SERVICE_CATEGORY','CLAIM_SPECIALTY','PAYER','PAID_AMOUNT'])\n",
    "print(len(my_df))\n",
    "my_df.head()"
   ]
  },
  {
   "cell_type": "code",
   "execution_count": 23,
   "id": "9900636d",
   "metadata": {},
   "outputs": [
    {
     "data": {
      "text/plain": [
       "<AxesSubplot:>"
      ]
     },
     "execution_count": 23,
     "metadata": {},
     "output_type": "execute_result"
    },
    {
     "data": {
      "image/png": "[encoded data removed]",
      "text/plain": [
       "<Figure size 432x288 with 1 Axes>"
      ]
     },
     "metadata": {
      "needs_background": "light"
     },
     "output_type": "display_data"
    }
   ],
   "source": [
    "my_df.PAID_AMOUNT.hist()"
   ]
  },
  {
   "cell_type": "code",
   "execution_count": 24,
   "id": "a8803482",
   "metadata": {},
   "outputs": [
    {
     "name": "stdout",
     "output_type": "stream",
     "text": [
      "29\n"
     ]
    },
    {
     "data": {
      "image/png": "[encoded data removed]",
      "text/plain": [
       "<Figure size 432x288 with 1 Axes>"
      ]
     },
     "metadata": {
      "needs_background": "light"
     },
     "output_type": "display_data"
    }
   ],
   "source": [
    "# example before boostrap\n",
    "t = (df[(df['SERVICE_CATEGORY'] == 'AncillaryFFS') &\n",
    "           (df['CLAIM_SPECIALTY'] == 'AMBULATORY SURGICAL CENTER') &\n",
    "           (df['PAYER'] == 'Payer W')]\n",
    "    )\n",
    "print(len(t))\n",
    "t.PAID_AMOUNT.hist();"
   ]
  },
  {
   "cell_type": "code",
   "execution_count": 25,
   "id": "f7d7ff91",
   "metadata": {},
   "outputs": [
    {
     "name": "stdout",
     "output_type": "stream",
     "text": [
      "5000\n"
     ]
    },
    {
     "data": {
      "image/png": "[encoded data removed]",
      "text/plain": [
       "<Figure size 432x288 with 1 Axes>"
      ]
     },
     "metadata": {
      "needs_background": "light"
     },
     "output_type": "display_data"
    }
   ],
   "source": [
    "# example after boostrap\n",
    "t = (my_df[(my_df['SERVICE_CATEGORY'] == 'AncillaryFFS') &\n",
    "           (my_df['CLAIM_SPECIALTY'] == 'AMBULATORY SURGICAL CENTER') &\n",
    "           (my_df['PAYER'] == 'Payer W')]\n",
    "    )\n",
    "print(len(t))\n",
    "t.PAID_AMOUNT.hist();"
   ]
  },
  {
   "cell_type": "code",
   "execution_count": 26,
   "id": "74466e3b",
   "metadata": {},
   "outputs": [
    {
     "name": "stdout",
     "output_type": "stream",
     "text": [
      "11245500 4819500\n"
     ]
    }
   ],
   "source": [
    "# New train, val for boostrap model\n",
    "features = ['SERVICE_CATEGORY', 'CLAIM_SPECIALTY', 'PAYER']\n",
    "target = \"PAID_AMOUNT\"\n",
    "\n",
    "train = my_df.sample(frac=0.7,random_state=42).copy()\n",
    "val = my_df[~my_df.index.isin(train.index)].copy()\n",
    "print(len(train), len(val))"
   ]
  },
  {
   "cell_type": "code",
   "execution_count": 27,
   "id": "d0b8eea7",
   "metadata": {},
   "outputs": [
    {
     "name": "stdout",
     "output_type": "stream",
     "text": [
      "Learning rate set to 0.220242\n",
      "0:\tlearn: 3642.4268350\ttest: 3647.9134045\tbest: 3647.9134045 (0)\ttotal: 4.21s\tremaining: 1h 10m 6s\n",
      "100:\tlearn: 1229.6401461\ttest: 1192.4319491\tbest: 1192.4319491 (100)\ttotal: 3m 29s\tremaining: 31m 7s\n",
      "200:\tlearn: 835.1555469\ttest: 782.8060291\tbest: 782.8060291 (200)\ttotal: 6m 41s\tremaining: 26m 37s\n",
      "300:\tlearn: 664.4087284\ttest: 606.3738540\tbest: 606.3738540 (300)\ttotal: 10m 6s\tremaining: 23m 29s\n",
      "400:\tlearn: 581.0775161\ttest: 520.7835531\tbest: 520.7835531 (400)\ttotal: 13m 19s\tremaining: 19m 53s\n",
      "500:\tlearn: 528.2663841\ttest: 465.3603845\tbest: 465.3603845 (500)\ttotal: 16m 33s\tremaining: 16m 29s\n",
      "600:\tlearn: 500.1308945\ttest: 434.1605783\tbest: 434.1605783 (600)\ttotal: 20m 11s\tremaining: 13m 24s\n",
      "700:\tlearn: 481.4257573\ttest: 415.9465572\tbest: 415.9465572 (700)\ttotal: 23m 33s\tremaining: 10m 3s\n",
      "800:\tlearn: 459.0840096\ttest: 393.9397246\tbest: 393.9397246 (800)\ttotal: 26m 32s\tremaining: 6m 36s\n",
      "900:\tlearn: 447.6481092\ttest: 383.8080476\tbest: 383.8080476 (900)\ttotal: 29m 42s\tremaining: 3m 16s\n",
      "999:\tlearn: 435.3334431\ttest: 376.2207925\tbest: 376.2207925 (999)\ttotal: 35m 44s\tremaining: 0us\n",
      "\n",
      "bestTest = 376.2207925\n",
      "bestIteration = 999\n",
      "\n",
      "Training MAE: 173.89241998577828\n"
     ]
    }
   ],
   "source": [
    "# CatBoostRegressor\n",
    "model_2 = CatBoostRegressor(verbose=100, \n",
    "                          eval_metric='RMSE',\n",
    "                          random_state=42\n",
    "                         )\n",
    "\n",
    "model_2.fit(train[features], train[target],\n",
    "          cat_features=features,\n",
    "          eval_set=(val[features],val[target])\n",
    "         )\n",
    "\n",
    "y_pred_training = model_2.predict(val[features])\n",
    "print(\"Training MAE:\", mean_absolute_error(val[target], y_pred_training))"
   ]
  },
  {
   "cell_type": "code",
   "execution_count": 36,
   "id": "b813cabd",
   "metadata": {},
   "outputs": [
    {
     "name": "stdout",
     "output_type": "stream",
     "text": [
      "Training MAE: 865.3073312552814\n",
      "Training MAE: 833.4160767104361\n"
     ]
    }
   ],
   "source": [
    "y_pred_training_model_1 = model_1.predict(df[['SERVICE_CATEGORY', 'CLAIM_SPECIALTY', 'PAYER', 'SEASON']])\n",
    "y_pred_training_model_2 = model_2.predict(df[['SERVICE_CATEGORY', 'CLAIM_SPECIALTY', 'PAYER']])\n",
    "print(\"Training MAE:\", mean_absolute_error(df[target], y_pred_training_model_1))\n",
    "print(\"Training MAE:\", mean_absolute_error(df[target], y_pred_training_model_2))"
   ]
  },
  {
   "cell_type": "markdown",
   "id": "ee26a90e",
   "metadata": {},
   "source": [
    "# MAE is decreased after boostrap"
   ]
  }
 ],
 "metadata": {
  "kernelspec": {
   "display_name": "Python 3 (ipykernel)",
   "language": "python",
   "name": "python3"
  },
  "language_info": {
   "codemirror_mode": {
    "name": "ipython",
    "version": 3
   },
   "file_extension": ".py",
   "mimetype": "text/x-python",
   "name": "python",
   "nbconvert_exporter": "python",
   "pygments_lexer": "ipython3",
   "version": "3.9.7"
  }
 },
 "nbformat": 4,
 "nbformat_minor": 5
}
