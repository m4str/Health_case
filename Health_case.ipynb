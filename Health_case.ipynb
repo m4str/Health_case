{
 "cells": [
  {
   "cell_type": "code",
   "execution_count": 2,
   "id": "cf9f0c35",
   "metadata": {},
   "outputs": [],
   "source": [
    "import pandas as pd\n",
    "import numpy as np\n",
    "import seaborn as sns\n",
    "import matplotlib.pyplot as plt\n",
    "import shap\n",
    "\n",
    "from catboost import CatBoostRegressor\n",
    "from sklearn.metrics import mean_absolute_error\n",
    "from tqdm.notebook import tqdm as tqdm"
   ]
  },
  {
   "cell_type": "code",
   "execution_count": 3,
   "id": "0cc73cc5",
   "metadata": {},
   "outputs": [
    {
     "name": "stdout",
     "output_type": "stream",
     "text": [
      "q1: 14 q9: 54388\n",
      "\n",
      "isna_sum: 0.0\n",
      "\n",
      "df_shape is:  (46734, 8)\n",
      "MONTH                        int64\n",
      "SERVICE_CATEGORY            object\n",
      "CLAIM_SPECIALTY             object\n",
      "PAYER                       object\n",
      "PAID_AMOUNT                  int64\n",
      "date                datetime64[ns]\n",
      "month                       object\n",
      "SEASON                      object\n",
      "dtype: object\n"
     ]
    },
    {
     "data": {
      "text/html": [
       "<div>\n",
       "<style scoped>\n",
       "    .dataframe tbody tr th:only-of-type {\n",
       "        vertical-align: middle;\n",
       "    }\n",
       "\n",
       "    .dataframe tbody tr th {\n",
       "        vertical-align: top;\n",
       "    }\n",
       "\n",
       "    .dataframe thead th {\n",
       "        text-align: right;\n",
       "    }\n",
       "</style>\n",
       "<table border=\"1\" class=\"dataframe\">\n",
       "  <thead>\n",
       "    <tr style=\"text-align: right;\">\n",
       "      <th></th>\n",
       "      <th>MONTH</th>\n",
       "      <th>SERVICE_CATEGORY</th>\n",
       "      <th>CLAIM_SPECIALTY</th>\n",
       "      <th>PAYER</th>\n",
       "      <th>PAID_AMOUNT</th>\n",
       "      <th>date</th>\n",
       "      <th>month</th>\n",
       "      <th>SEASON</th>\n",
       "    </tr>\n",
       "  </thead>\n",
       "  <tbody>\n",
       "    <tr>\n",
       "      <th>4</th>\n",
       "      <td>201801</td>\n",
       "      <td>AncillaryFFS</td>\n",
       "      <td>ACH</td>\n",
       "      <td>Payer W</td>\n",
       "      <td>151</td>\n",
       "      <td>2018-01-01</td>\n",
       "      <td>1</td>\n",
       "      <td>winter</td>\n",
       "    </tr>\n",
       "    <tr>\n",
       "      <th>6</th>\n",
       "      <td>201801</td>\n",
       "      <td>AncillaryFFS</td>\n",
       "      <td>ADVANCED RN PRACT</td>\n",
       "      <td>Payer CA</td>\n",
       "      <td>443</td>\n",
       "      <td>2018-01-01</td>\n",
       "      <td>1</td>\n",
       "      <td>winter</td>\n",
       "    </tr>\n",
       "    <tr>\n",
       "      <th>7</th>\n",
       "      <td>201801</td>\n",
       "      <td>AncillaryFFS</td>\n",
       "      <td>AMBULANCE</td>\n",
       "      <td>Payer CA</td>\n",
       "      <td>14890</td>\n",
       "      <td>2018-01-01</td>\n",
       "      <td>1</td>\n",
       "      <td>winter</td>\n",
       "    </tr>\n",
       "    <tr>\n",
       "      <th>8</th>\n",
       "      <td>201801</td>\n",
       "      <td>AncillaryFFS</td>\n",
       "      <td>AMBULANCE</td>\n",
       "      <td>Payer CO</td>\n",
       "      <td>1722</td>\n",
       "      <td>2018-01-01</td>\n",
       "      <td>1</td>\n",
       "      <td>winter</td>\n",
       "    </tr>\n",
       "    <tr>\n",
       "      <th>9</th>\n",
       "      <td>201801</td>\n",
       "      <td>AncillaryFFS</td>\n",
       "      <td>AMBULANCE</td>\n",
       "      <td>Payer F</td>\n",
       "      <td>36108</td>\n",
       "      <td>2018-01-01</td>\n",
       "      <td>1</td>\n",
       "      <td>winter</td>\n",
       "    </tr>\n",
       "  </tbody>\n",
       "</table>\n",
       "</div>"
      ],
      "text/plain": [
       "    MONTH SERVICE_CATEGORY    CLAIM_SPECIALTY     PAYER  PAID_AMOUNT  \\\n",
       "4  201801     AncillaryFFS                ACH   Payer W          151   \n",
       "6  201801     AncillaryFFS  ADVANCED RN PRACT  Payer CA          443   \n",
       "7  201801     AncillaryFFS          AMBULANCE  Payer CA        14890   \n",
       "8  201801     AncillaryFFS          AMBULANCE  Payer CO         1722   \n",
       "9  201801     AncillaryFFS          AMBULANCE   Payer F        36108   \n",
       "\n",
       "        date month  SEASON  \n",
       "4 2018-01-01     1  winter  \n",
       "6 2018-01-01     1  winter  \n",
       "7 2018-01-01     1  winter  \n",
       "8 2018-01-01     1  winter  \n",
       "9 2018-01-01     1  winter  "
      ]
     },
     "execution_count": 3,
     "metadata": {},
     "output_type": "execute_result"
    }
   ],
   "source": [
    "\"\"\"\n",
    "MONTH - a month claims were lodged\n",
    "SERVICE_CATEGORY - a department that provided services to patients\n",
    "CLAIM_SPECIALTY - a type of medical services by an official classification system\n",
    "PAYER - an insurance company\n",
    "PAID_AMOUNT - sum of expenses (claims), $\n",
    "\"\"\"\n",
    "\n",
    "def wrangle(path):\n",
    "    '''\n",
    "    Function created after data exploration and \n",
    "    data quality analysis in each column.\n",
    "\n",
    "    I saved PCPEncounter with only 42 observation because \n",
    "    it has can enough data for analysis\n",
    "    '''\n",
    "    \n",
    "    df = pd.read_csv(path)\n",
    "    \n",
    "    # drop bad date and rare date in column 'MONTH'\n",
    "    mask1 = df['MONTH'] != 201900\n",
    "    mask2 = df['MONTH'] != 202007\n",
    "    df = df[mask1 & mask2]\n",
    "    \n",
    "    # date to datetime\n",
    "    df['date'] = pd.to_datetime(df['MONTH'], format='%Y%m') # , errors='coerce'\n",
    "    \n",
    "    # replace the same service category\n",
    "    df['SERVICE_CATEGORY'] = df['SERVICE_CATEGORY'].replace(\"SpecialistsFFS\",'SpecialistFFS')    \n",
    "    \n",
    "    # drop NaN CLAIM_SPECIALTY\n",
    "    df.dropna(subset=['CLAIM_SPECIALTY'], inplace=True)\n",
    "    \n",
    "    # choose only one type of payments\n",
    "    df = df[df.PAID_AMOUNT > 0]\n",
    "    df['PAID_AMOUNT'] = df['PAID_AMOUNT'].astype('int64')\n",
    "    \n",
    "    # choose payments between quantiles without outliers\n",
    "    q1, q9 = df.PAID_AMOUNT.quantile([0.01, 0.99])\n",
    "    df = df[df.PAID_AMOUNT.between(q1,q9)]\n",
    "    \n",
    "    # add season and month as a category\n",
    "    df['month'] = df['date'].dt.month.astype(str)\n",
    "                   \n",
    "    df['SEASON'] = (df['date'].dt.month\n",
    "                   .astype(str)\n",
    "                   .replace(['12','1','2'],'winter')\n",
    "                   .replace(['3','4','5'],'spring')\n",
    "                   .replace(['6','7','8'],'summer')\n",
    "                   .replace(['9','10','11'],'autumn')\n",
    "                   )  \n",
    "    \n",
    "    print('q1:', round(q1), 'q9:', round(q9))\n",
    "    print()\n",
    "    print('isna_sum:', df.isna().mean().sum())\n",
    "    print()\n",
    "    print('df_shape is: ', df.shape)\n",
    "    \n",
    "    print(df.dtypes)\n",
    "    \n",
    "    return df\n",
    "    \n",
    "path = \"claims_sample_data.csv\"\n",
    "\n",
    "df = wrangle(path)\n",
    "df.head(5)"
   ]
  },
  {
   "cell_type": "code",
   "execution_count": 4,
   "id": "e8cf8781",
   "metadata": {},
   "outputs": [
    {
     "data": {
      "text/plain": [
       "min   2018-01-01\n",
       "max   2020-06-01\n",
       "Name: date, dtype: datetime64[ns]"
      ]
     },
     "execution_count": 4,
     "metadata": {},
     "output_type": "execute_result"
    }
   ],
   "source": [
    "df['date'].agg(['min', 'max'])"
   ]
  },
  {
   "cell_type": "code",
   "execution_count": 8,
   "id": "e80da608",
   "metadata": {},
   "outputs": [
    {
     "data": {
      "image/png": "[encoded data removed]",
      "text/plain": [
       "<Figure size 432x288 with 1 Axes>"
      ]
     },
     "metadata": {
      "needs_background": "light"
     },
     "output_type": "display_data"
    }
   ],
   "source": [
    "df.groupby('date')['PAID_AMOUNT'].agg(['count', 'mean']).plot();"
   ]
  },
  {
   "cell_type": "code",
   "execution_count": 9,
   "id": "84d2cc43",
   "metadata": {},
   "outputs": [
    {
     "data": {
      "text/html": [
       "<div>\n",
       "<style scoped>\n",
       "    .dataframe tbody tr th:only-of-type {\n",
       "        vertical-align: middle;\n",
       "    }\n",
       "\n",
       "    .dataframe tbody tr th {\n",
       "        vertical-align: top;\n",
       "    }\n",
       "\n",
       "    .dataframe thead th {\n",
       "        text-align: right;\n",
       "    }\n",
       "</style>\n",
       "<table border=\"1\" class=\"dataframe\">\n",
       "  <thead>\n",
       "    <tr style=\"text-align: right;\">\n",
       "      <th></th>\n",
       "      <th>count</th>\n",
       "      <th>mean</th>\n",
       "      <th>sum</th>\n",
       "    </tr>\n",
       "    <tr>\n",
       "      <th>CLAIM_SPECIALTY</th>\n",
       "      <th></th>\n",
       "      <th></th>\n",
       "      <th></th>\n",
       "    </tr>\n",
       "  </thead>\n",
       "  <tbody>\n",
       "    <tr>\n",
       "      <th>INTERNAL MEDICINE</th>\n",
       "      <td>1084</td>\n",
       "      <td>3990.092251</td>\n",
       "      <td>4325260</td>\n",
       "    </tr>\n",
       "    <tr>\n",
       "      <th>FAMILY PRACTICE</th>\n",
       "      <td>998</td>\n",
       "      <td>1869.682365</td>\n",
       "      <td>1865943</td>\n",
       "    </tr>\n",
       "    <tr>\n",
       "      <th>GENERAL SURGERY</th>\n",
       "      <td>798</td>\n",
       "      <td>1869.350877</td>\n",
       "      <td>1491742</td>\n",
       "    </tr>\n",
       "    <tr>\n",
       "      <th>GENERAL PRACTICE</th>\n",
       "      <td>777</td>\n",
       "      <td>1263.491634</td>\n",
       "      <td>981733</td>\n",
       "    </tr>\n",
       "    <tr>\n",
       "      <th>RADIOLOGY</th>\n",
       "      <td>749</td>\n",
       "      <td>3570.702270</td>\n",
       "      <td>2674456</td>\n",
       "    </tr>\n",
       "    <tr>\n",
       "      <th>...</th>\n",
       "      <td>...</td>\n",
       "      <td>...</td>\n",
       "      <td>...</td>\n",
       "    </tr>\n",
       "    <tr>\n",
       "      <th>Neuropsychology</th>\n",
       "      <td>1</td>\n",
       "      <td>224.000000</td>\n",
       "      <td>224</td>\n",
       "    </tr>\n",
       "    <tr>\n",
       "      <th>SPHEAR</th>\n",
       "      <td>1</td>\n",
       "      <td>155.000000</td>\n",
       "      <td>155</td>\n",
       "    </tr>\n",
       "    <tr>\n",
       "      <th>Neonatology</th>\n",
       "      <td>1</td>\n",
       "      <td>606.000000</td>\n",
       "      <td>606</td>\n",
       "    </tr>\n",
       "    <tr>\n",
       "      <th>NPONC</th>\n",
       "      <td>1</td>\n",
       "      <td>58.000000</td>\n",
       "      <td>58</td>\n",
       "    </tr>\n",
       "    <tr>\n",
       "      <th>X - Technician/Technologist - Optician</th>\n",
       "      <td>1</td>\n",
       "      <td>35.000000</td>\n",
       "      <td>35</td>\n",
       "    </tr>\n",
       "  </tbody>\n",
       "</table>\n",
       "<p>859 rows × 3 columns</p>\n",
       "</div>"
      ],
      "text/plain": [
       "                                        count         mean      sum\n",
       "CLAIM_SPECIALTY                                                    \n",
       "INTERNAL MEDICINE                        1084  3990.092251  4325260\n",
       "FAMILY PRACTICE                           998  1869.682365  1865943\n",
       "GENERAL SURGERY                           798  1869.350877  1491742\n",
       "GENERAL PRACTICE                          777  1263.491634   981733\n",
       "RADIOLOGY                                 749  3570.702270  2674456\n",
       "...                                       ...          ...      ...\n",
       "Neuropsychology                             1   224.000000      224\n",
       "SPHEAR                                      1   155.000000      155\n",
       "Neonatology                                 1   606.000000      606\n",
       "NPONC                                       1    58.000000       58\n",
       "X - Technician/Technologist - Optician      1    35.000000       35\n",
       "\n",
       "[859 rows x 3 columns]"
      ]
     },
     "execution_count": 9,
     "metadata": {},
     "output_type": "execute_result"
    }
   ],
   "source": [
    "(df.groupby(['CLAIM_SPECIALTY'])['PAID_AMOUNT']\n",
    " .agg(['count', 'mean', 'sum'])\n",
    " .sort_values(by='count', ascending=False)\n",
    ")"
   ]
  },
  {
   "cell_type": "code",
   "execution_count": 10,
   "id": "e657fb8c",
   "metadata": {},
   "outputs": [
    {
     "name": "stdout",
     "output_type": "stream",
     "text": [
      "450\n"
     ]
    },
    {
     "data": {
      "text/html": [
       "<div>\n",
       "<style scoped>\n",
       "    .dataframe tbody tr th:only-of-type {\n",
       "        vertical-align: middle;\n",
       "    }\n",
       "\n",
       "    .dataframe tbody tr th {\n",
       "        vertical-align: top;\n",
       "    }\n",
       "\n",
       "    .dataframe thead th {\n",
       "        text-align: right;\n",
       "    }\n",
       "</style>\n",
       "<table border=\"1\" class=\"dataframe\">\n",
       "  <thead>\n",
       "    <tr style=\"text-align: right;\">\n",
       "      <th></th>\n",
       "      <th>count</th>\n",
       "      <th>mean</th>\n",
       "    </tr>\n",
       "    <tr>\n",
       "      <th>CLAIM_SPECIALTY</th>\n",
       "      <th></th>\n",
       "      <th></th>\n",
       "    </tr>\n",
       "  </thead>\n",
       "  <tbody>\n",
       "    <tr>\n",
       "      <th>INTERNAL MEDICINE</th>\n",
       "      <td>1084</td>\n",
       "      <td>3990.092251</td>\n",
       "    </tr>\n",
       "    <tr>\n",
       "      <th>FAMILY PRACTICE</th>\n",
       "      <td>998</td>\n",
       "      <td>1869.682365</td>\n",
       "    </tr>\n",
       "    <tr>\n",
       "      <th>GENERAL SURGERY</th>\n",
       "      <td>798</td>\n",
       "      <td>1869.350877</td>\n",
       "    </tr>\n",
       "    <tr>\n",
       "      <th>GENERAL PRACTICE</th>\n",
       "      <td>777</td>\n",
       "      <td>1263.491634</td>\n",
       "    </tr>\n",
       "    <tr>\n",
       "      <th>RADIOLOGY</th>\n",
       "      <td>749</td>\n",
       "      <td>3570.702270</td>\n",
       "    </tr>\n",
       "    <tr>\n",
       "      <th>...</th>\n",
       "      <td>...</td>\n",
       "      <td>...</td>\n",
       "    </tr>\n",
       "    <tr>\n",
       "      <th>Internal Medicine - Infectious Disease\\t</th>\n",
       "      <td>11</td>\n",
       "      <td>533.909091</td>\n",
       "    </tr>\n",
       "    <tr>\n",
       "      <th>TRAUMA SURGERY</th>\n",
       "      <td>11</td>\n",
       "      <td>469.090909</td>\n",
       "    </tr>\n",
       "    <tr>\n",
       "      <th>PERSONAL EMERGENCY RESPONSE SYSTEM</th>\n",
       "      <td>11</td>\n",
       "      <td>42.272727</td>\n",
       "    </tr>\n",
       "    <tr>\n",
       "      <th>Surgery (Cardiothoracic)</th>\n",
       "      <td>11</td>\n",
       "      <td>217.545455</td>\n",
       "    </tr>\n",
       "    <tr>\n",
       "      <th>NURSE MIDWIFE</th>\n",
       "      <td>11</td>\n",
       "      <td>96.181818</td>\n",
       "    </tr>\n",
       "  </tbody>\n",
       "</table>\n",
       "<p>450 rows × 2 columns</p>\n",
       "</div>"
      ],
      "text/plain": [
       "                                          count         mean\n",
       "CLAIM_SPECIALTY                                             \n",
       "INTERNAL MEDICINE                          1084  3990.092251\n",
       "FAMILY PRACTICE                             998  1869.682365\n",
       "GENERAL SURGERY                             798  1869.350877\n",
       "GENERAL PRACTICE                            777  1263.491634\n",
       "RADIOLOGY                                   749  3570.702270\n",
       "...                                         ...          ...\n",
       "Internal Medicine - Infectious Disease\\t     11   533.909091\n",
       "TRAUMA SURGERY                               11   469.090909\n",
       "PERSONAL EMERGENCY RESPONSE SYSTEM           11    42.272727\n",
       "Surgery (Cardiothoracic)                     11   217.545455\n",
       "NURSE MIDWIFE                                11    96.181818\n",
       "\n",
       "[450 rows x 2 columns]"
      ]
     },
     "execution_count": 10,
     "metadata": {},
     "output_type": "execute_result"
    }
   ],
   "source": [
    "# Select features with enought data\n",
    "top_specialty = (df.groupby('CLAIM_SPECIALTY')['PAID_AMOUNT']\n",
    "             .agg(['count','mean'])\n",
    "             .sort_values(by='count', ascending=False)\n",
    "            )\n",
    "top_specialty = top_specialty[top_specialty['count'] > 10]\n",
    "print(len(top_specialty))\n",
    "top_specialty"
   ]
  },
  {
   "cell_type": "markdown",
   "id": "c4977538",
   "metadata": {},
   "source": [
    "# Model"
   ]
  },
  {
   "cell_type": "code",
   "execution_count": 11,
   "id": "3e92830f",
   "metadata": {},
   "outputs": [
    {
     "data": {
      "text/plain": [
       "Index(['MONTH', 'SERVICE_CATEGORY', 'CLAIM_SPECIALTY', 'PAYER', 'PAID_AMOUNT',\n",
       "       'date', 'month', 'SEASON'],\n",
       "      dtype='object')"
      ]
     },
     "execution_count": 11,
     "metadata": {},
     "output_type": "execute_result"
    }
   ],
   "source": [
    "df.columns"
   ]
  },
  {
   "cell_type": "code",
   "execution_count": 12,
   "id": "8aa6a244",
   "metadata": {},
   "outputs": [],
   "source": [
    "# Create the feature matrix and the target vector\n",
    "features = ['SERVICE_CATEGORY', 'CLAIM_SPECIALTY', 'PAYER', 'SEASON']\n",
    "target = \"PAID_AMOUNT\"\n",
    "\n",
    "train = df.sample(frac=0.7,random_state=42).copy()\n",
    "val = df[~df.index.isin(train.index)].copy()"
   ]
  },
  {
   "cell_type": "code",
   "execution_count": 13,
   "id": "98f2d458",
   "metadata": {},
   "outputs": [
    {
     "name": "stdout",
     "output_type": "stream",
     "text": [
      "Mean payment: 1934\n",
      "Baseline MAE: 2097\n"
     ]
    }
   ],
   "source": [
    "# Baseline model\n",
    "y_mean = train['PAID_AMOUNT'].mean()\n",
    "y_pred_baseline = [y_mean] * len(train)\n",
    "mae_baseline = mean_absolute_error(train[target], y_pred_baseline)\n",
    "\n",
    "print(\"Mean payment:\", round(y_mean))\n",
    "print(\"Baseline MAE:\", round(mae_baseline))"
   ]
  },
  {
   "cell_type": "code",
   "execution_count": 14,
   "id": "9400e15b",
   "metadata": {},
   "outputs": [
    {
     "name": "stdout",
     "output_type": "stream",
     "text": [
      "Learning rate set to 0.088046\n",
      "0:\tlearn: 4711.7007232\ttest: 4803.0938571\tbest: 4803.0938571 (0)\ttotal: 73.1ms\tremaining: 1m 13s\n",
      "100:\tlearn: 2895.9410102\ttest: 2554.7146897\tbest: 2554.7146897 (100)\ttotal: 724ms\tremaining: 6.44s\n",
      "200:\tlearn: 2631.2744275\ttest: 2324.0269451\tbest: 2323.7947078 (199)\ttotal: 1.42s\tremaining: 5.64s\n",
      "300:\tlearn: 2515.6803277\ttest: 2233.2157887\tbest: 2233.2157887 (300)\ttotal: 2.04s\tremaining: 4.74s\n",
      "400:\tlearn: 2458.2302201\ttest: 2198.8000955\tbest: 2198.7682659 (398)\ttotal: 2.66s\tremaining: 3.97s\n",
      "500:\tlearn: 2391.6878836\ttest: 2161.9745591\tbest: 2161.9745591 (500)\ttotal: 3.27s\tremaining: 3.26s\n",
      "600:\tlearn: 2327.3518973\ttest: 2132.2744275\tbest: 2132.1788137 (597)\ttotal: 3.89s\tremaining: 2.58s\n",
      "700:\tlearn: 2285.3408865\ttest: 2119.0970351\tbest: 2118.3639517 (693)\ttotal: 4.52s\tremaining: 1.93s\n",
      "800:\tlearn: 2236.5959963\ttest: 2101.4476356\tbest: 2100.6166834 (794)\ttotal: 5.14s\tremaining: 1.28s\n",
      "900:\tlearn: 2201.0000856\ttest: 2097.0532561\tbest: 2097.0532561 (900)\ttotal: 5.75s\tremaining: 632ms\n",
      "999:\tlearn: 2161.7128489\ttest: 2088.0297616\tbest: 2087.9985848 (998)\ttotal: 6.36s\tremaining: 0us\n",
      "\n",
      "bestTest = 2087.998585\n",
      "bestIteration = 998\n",
      "\n",
      "Shrink model to first 999 iterations.\n",
      "Training MAE: 891.9562711746772\n"
     ]
    }
   ],
   "source": [
    "# CatBoostRegressor\n",
    "model_1 = CatBoostRegressor(verbose=100, \n",
    "                          eval_metric='RMSE',\n",
    "                          random_state=42\n",
    "                         )\n",
    "\n",
    "model_1.fit(train[features], train[target],\n",
    "          cat_features=features,\n",
    "          eval_set=(val[features],val[target])\n",
    "         )\n",
    "\n",
    "y_pred_training = model_1.predict(val[features])\n",
    "print(\"Training MAE:\", mean_absolute_error(val[target], y_pred_training))"
   ]
  },
  {
   "cell_type": "markdown",
   "id": "f3fb219c",
   "metadata": {},
   "source": [
    "## MAE is reduced, so the model can be exist and has explanation power"
   ]
  },
  {
   "cell_type": "code",
   "execution_count": 212,
   "id": "e929eda5",
   "metadata": {},
   "outputs": [
    {
     "data": {
      "text/html": [
       "<div>\n",
       "<style scoped>\n",
       "    .dataframe tbody tr th:only-of-type {\n",
       "        vertical-align: middle;\n",
       "    }\n",
       "\n",
       "    .dataframe tbody tr th {\n",
       "        vertical-align: top;\n",
       "    }\n",
       "\n",
       "    .dataframe thead th {\n",
       "        text-align: right;\n",
       "    }\n",
       "</style>\n",
       "<table border=\"1\" class=\"dataframe\">\n",
       "  <thead>\n",
       "    <tr style=\"text-align: right;\">\n",
       "      <th></th>\n",
       "      <th>feature</th>\n",
       "      <th>fi</th>\n",
       "    </tr>\n",
       "  </thead>\n",
       "  <tbody>\n",
       "    <tr>\n",
       "      <th>1</th>\n",
       "      <td>CLAIM_SPECIALTY</td>\n",
       "      <td>43.254122</td>\n",
       "    </tr>\n",
       "    <tr>\n",
       "      <th>2</th>\n",
       "      <td>PAYER</td>\n",
       "      <td>28.306758</td>\n",
       "    </tr>\n",
       "    <tr>\n",
       "      <th>0</th>\n",
       "      <td>SERVICE_CATEGORY</td>\n",
       "      <td>26.647935</td>\n",
       "    </tr>\n",
       "    <tr>\n",
       "      <th>3</th>\n",
       "      <td>SEASON</td>\n",
       "      <td>1.791186</td>\n",
       "    </tr>\n",
       "  </tbody>\n",
       "</table>\n",
       "</div>"
      ],
      "text/plain": [
       "            feature         fi\n",
       "1   CLAIM_SPECIALTY  43.254122\n",
       "2             PAYER  28.306758\n",
       "0  SERVICE_CATEGORY  26.647935\n",
       "3            SEASON   1.791186"
      ]
     },
     "execution_count": 212,
     "metadata": {},
     "output_type": "execute_result"
    }
   ],
   "source": [
    "# power of each feature\n",
    "fi = pd.DataFrame({'feature':features,'fi':model_1.feature_importances_})\n",
    "fi = fi.sort_values('fi',ascending=False)\n",
    "fi"
   ]
  },
  {
   "cell_type": "code",
   "execution_count": 213,
   "id": "720f8769",
   "metadata": {},
   "outputs": [
    {
     "data": {
      "image/png": "[encoded data removed]",
      "text/plain": [
       "<Figure size 576x223.2 with 2 Axes>"
      ]
     },
     "metadata": {
      "needs_background": "light"
     },
     "output_type": "display_data"
    }
   ],
   "source": [
    "# shap plotting\n",
    "explainer = shap.Explainer(model_1)\n",
    "shap_values = explainer(val[features])\n",
    "\n",
    "shap.summary_plot(shap_values,\n",
    "                 val[features],\n",
    "                 max_display = 50)"
   ]
  },
  {
   "cell_type": "markdown",
   "id": "749292cc",
   "metadata": {},
   "source": [
    "# Bootstrap model"
   ]
  },
  {
   "cell_type": "code",
   "execution_count": 248,
   "id": "9e1e77b6",
   "metadata": {},
   "outputs": [
    {
     "data": {
      "image/png": "[encoded data removed]",
      "text/plain": [
       "<Figure size 432x288 with 1 Axes>"
      ]
     },
     "metadata": {
      "needs_background": "light"
     },
     "output_type": "display_data"
    }
   ],
   "source": [
    "# The data don't have normal distribution\n",
    "df['PAID_AMOUNT'].hist();"
   ]
  },
  {
   "cell_type": "code",
   "execution_count": 414,
   "id": "fc420f34",
   "metadata": {},
   "outputs": [
    {
     "data": {
      "application/vnd.jupyter.widget-view+json": {
       "model_id": "b94a2bae6def49cab347175fa8df0f22",
       "version_major": 2,
       "version_minor": 0
      },
      "text/plain": [
       "  0%|          | 0/10000 [00:00<?, ?it/s]"
      ]
     },
     "metadata": {},
     "output_type": "display_data"
    },
    {
     "data": {
      "image/png": "[encoded data removed]",
      "text/plain": [
       "<Figure size 432x288 with 1 Axes>"
      ]
     },
     "metadata": {
      "needs_background": "light"
     },
     "output_type": "display_data"
    }
   ],
   "source": [
    "# Bootstrap all data set\n",
    "my_samples = []\n",
    "\n",
    "for _ in tqdm(range(10000)):\n",
    "    x = np.random.choice(df['PAID_AMOUNT'], size=round(len(df['PAID_AMOUNT'])), replace=True)\n",
    "    my_samples.append(x.mean())\n",
    "    \n",
    "plt.hist(my_samples, alpha=0.5);"
   ]
  },
  {
   "cell_type": "code",
   "execution_count": 385,
   "id": "d7eef9e2",
   "metadata": {},
   "outputs": [],
   "source": [
    "# create diction from unique features for loop \n",
    "df_top = df[df['CLAIM_SPECIALTY'].isin(top_specialty.index)]\n",
    "df_top = df_top[['SERVICE_CATEGORY', 'CLAIM_SPECIALTY', 'PAYER']].drop_duplicates()\n",
    "dict_ = df_top.T.to_dict()"
   ]
  },
  {
   "cell_type": "code",
   "execution_count": 386,
   "id": "7f45d2e0",
   "metadata": {},
   "outputs": [
    {
     "data": {
      "application/vnd.jupyter.widget-view+json": {
       "model_id": "d0c4320613c04583a9142bc431a914ff",
       "version_major": 2,
       "version_minor": 0
      },
      "text/plain": [
       "  0%|          | 0/3213 [00:00<?, ?it/s]"
      ]
     },
     "metadata": {},
     "output_type": "display_data"
    }
   ],
   "source": [
    "# Bootstrap features in df\n",
    "my_lst = []\n",
    "\n",
    "for k,v in tqdm(dict_.items()):\n",
    "    lst = []\n",
    "    for i,j in v.items():\n",
    "        lst.append(j)\n",
    "        \n",
    "    t = (df[ (df['SERVICE_CATEGORY'] == lst[0]) & \n",
    "             (df['CLAIM_SPECIALTY'] == lst[1]) & \n",
    "             (df['PAYER'] == lst[2])]\n",
    "        )   \n",
    "    \n",
    "    for _ in range(5000):\n",
    "        x = np.random.choice(t['PAID_AMOUNT'], size=round(len(t['PAID_AMOUNT'])), replace=True)\n",
    "        my_lst.append([lst[0], lst[1], lst[2], x.mean()])"
   ]
  },
  {
   "cell_type": "code",
   "execution_count": 388,
   "id": "4b893f25",
   "metadata": {},
   "outputs": [
    {
     "name": "stdout",
     "output_type": "stream",
     "text": [
      "16065000\n"
     ]
    },
    {
     "data": {
      "text/html": [
       "<div>\n",
       "<style scoped>\n",
       "    .dataframe tbody tr th:only-of-type {\n",
       "        vertical-align: middle;\n",
       "    }\n",
       "\n",
       "    .dataframe tbody tr th {\n",
       "        vertical-align: top;\n",
       "    }\n",
       "\n",
       "    .dataframe thead th {\n",
       "        text-align: right;\n",
       "    }\n",
       "</style>\n",
       "<table border=\"1\" class=\"dataframe\">\n",
       "  <thead>\n",
       "    <tr style=\"text-align: right;\">\n",
       "      <th></th>\n",
       "      <th>SERVICE_CATEGORY</th>\n",
       "      <th>CLAIM_SPECIALTY</th>\n",
       "      <th>PAYER</th>\n",
       "      <th>PAID_AMOUNT</th>\n",
       "    </tr>\n",
       "  </thead>\n",
       "  <tbody>\n",
       "    <tr>\n",
       "      <th>0</th>\n",
       "      <td>AncillaryFFS</td>\n",
       "      <td>ADVANCED RN PRACT</td>\n",
       "      <td>Payer CA</td>\n",
       "      <td>483.464286</td>\n",
       "    </tr>\n",
       "    <tr>\n",
       "      <th>1</th>\n",
       "      <td>AncillaryFFS</td>\n",
       "      <td>ADVANCED RN PRACT</td>\n",
       "      <td>Payer CA</td>\n",
       "      <td>538.642857</td>\n",
       "    </tr>\n",
       "    <tr>\n",
       "      <th>2</th>\n",
       "      <td>AncillaryFFS</td>\n",
       "      <td>ADVANCED RN PRACT</td>\n",
       "      <td>Payer CA</td>\n",
       "      <td>633.750000</td>\n",
       "    </tr>\n",
       "    <tr>\n",
       "      <th>3</th>\n",
       "      <td>AncillaryFFS</td>\n",
       "      <td>ADVANCED RN PRACT</td>\n",
       "      <td>Payer CA</td>\n",
       "      <td>648.357143</td>\n",
       "    </tr>\n",
       "    <tr>\n",
       "      <th>4</th>\n",
       "      <td>AncillaryFFS</td>\n",
       "      <td>ADVANCED RN PRACT</td>\n",
       "      <td>Payer CA</td>\n",
       "      <td>567.821429</td>\n",
       "    </tr>\n",
       "  </tbody>\n",
       "</table>\n",
       "</div>"
      ],
      "text/plain": [
       "  SERVICE_CATEGORY    CLAIM_SPECIALTY     PAYER  PAID_AMOUNT\n",
       "0     AncillaryFFS  ADVANCED RN PRACT  Payer CA   483.464286\n",
       "1     AncillaryFFS  ADVANCED RN PRACT  Payer CA   538.642857\n",
       "2     AncillaryFFS  ADVANCED RN PRACT  Payer CA   633.750000\n",
       "3     AncillaryFFS  ADVANCED RN PRACT  Payer CA   648.357143\n",
       "4     AncillaryFFS  ADVANCED RN PRACT  Payer CA   567.821429"
      ]
     },
     "execution_count": 388,
     "metadata": {},
     "output_type": "execute_result"
    }
   ],
   "source": [
    "# Create df after Bootstrap\n",
    "my_df = pd.DataFrame(my_lst, columns=['SERVICE_CATEGORY','CLAIM_SPECIALTY','PAYER','PAID_AMOUNT'])\n",
    "print(len(my_df))\n",
    "my_df.head()"
   ]
  },
  {
   "cell_type": "code",
   "execution_count": 389,
   "id": "9900636d",
   "metadata": {},
   "outputs": [
    {
     "data": {
      "text/plain": [
       "<AxesSubplot:>"
      ]
     },
     "execution_count": 389,
     "metadata": {},
     "output_type": "execute_result"
    },
    {
     "data": {
      "image/png": "[encoded data removed]",
      "text/plain": [
       "<Figure size 432x288 with 1 Axes>"
      ]
     },
     "metadata": {
      "needs_background": "light"
     },
     "output_type": "display_data"
    }
   ],
   "source": [
    "my_df.PAID_AMOUNT.hist()"
   ]
  },
  {
   "cell_type": "code",
   "execution_count": 396,
   "id": "a8803482",
   "metadata": {},
   "outputs": [
    {
     "name": "stdout",
     "output_type": "stream",
     "text": [
      "29\n"
     ]
    },
    {
     "data": {
      "text/plain": [
       "<AxesSubplot:>"
      ]
     },
     "execution_count": 396,
     "metadata": {},
     "output_type": "execute_result"
    },
    {
     "data": {
      "image/png": "[encoded data removed]",
      "text/plain": [
       "<Figure size 432x288 with 1 Axes>"
      ]
     },
     "metadata": {
      "needs_background": "light"
     },
     "output_type": "display_data"
    }
   ],
   "source": [
    "# exsample before Bootstrap\n",
    "t = (df[(df['SERVICE_CATEGORY'] == 'AncillaryFFS') &\n",
    "           (df['CLAIM_SPECIALTY'] == 'AMBULATORY SURGICAL CENTER') &\n",
    "           (df['PAYER'] == 'Payer W')]\n",
    "    )\n",
    "print(len(t))\n",
    "t.PAID_AMOUNT.hist();"
   ]
  },
  {
   "cell_type": "code",
   "execution_count": 395,
   "id": "f7d7ff91",
   "metadata": {},
   "outputs": [
    {
     "name": "stdout",
     "output_type": "stream",
     "text": [
      "5000\n"
     ]
    },
    {
     "data": {
      "text/plain": [
       "<AxesSubplot:>"
      ]
     },
     "execution_count": 395,
     "metadata": {},
     "output_type": "execute_result"
    },
    {
     "data": {
      "image/png": "[encoded data removed]",
      "text/plain": [
       "<Figure size 432x288 with 1 Axes>"
      ]
     },
     "metadata": {
      "needs_background": "light"
     },
     "output_type": "display_data"
    }
   ],
   "source": [
    "# exsample after Bootstrap\n",
    "t = (my_df[(my_df['SERVICE_CATEGORY'] == 'AncillaryFFS') &\n",
    "           (my_df['CLAIM_SPECIALTY'] == 'AMBULATORY SURGICAL CENTER') &\n",
    "           (my_df['PAYER'] == 'Payer W')]\n",
    "    )\n",
    "print(len(t))\n",
    "t.PAID_AMOUNT.hist();"
   ]
  },
  {
   "cell_type": "code",
   "execution_count": 397,
   "id": "74466e3b",
   "metadata": {},
   "outputs": [
    {
     "name": "stdout",
     "output_type": "stream",
     "text": [
      "11245500 4819500\n"
     ]
    }
   ],
   "source": [
    "# New train, val for Bootstrap model\n",
    "features = ['SERVICE_CATEGORY', 'CLAIM_SPECIALTY', 'PAYER']\n",
    "target = \"PAID_AMOUNT\"\n",
    "\n",
    "train = my_df.sample(frac=0.7,random_state=42).copy()\n",
    "val = my_df[~my_df.index.isin(train.index)].copy()\n",
    "print(len(train), len(val))"
   ]
  },
  {
   "cell_type": "code",
   "execution_count": 398,
   "id": "d0b8eea7",
   "metadata": {},
   "outputs": [
    {
     "name": "stdout",
     "output_type": "stream",
     "text": [
      "Learning rate set to 0.220242\n",
      "0:\tlearn: 3645.8667051\ttest: 3648.4605523\tbest: 3648.4605523 (0)\ttotal: 9.03s\tremaining: 2h 30m 21s\n",
      "100:\tlearn: 1208.2196213\ttest: 1176.1796084\tbest: 1176.1796084 (100)\ttotal: 4m 6s\tremaining: 36m 36s\n",
      "200:\tlearn: 834.8445606\ttest: 782.6905882\tbest: 782.6905882 (200)\ttotal: 7m 4s\tremaining: 28m 6s\n",
      "300:\tlearn: 667.0791133\ttest: 611.3419208\tbest: 611.3419208 (300)\ttotal: 10m 5s\tremaining: 23m 25s\n",
      "400:\tlearn: 587.5457040\ttest: 526.2397737\tbest: 526.2397737 (400)\ttotal: 13m 29s\tremaining: 20m 9s\n",
      "500:\tlearn: 539.2996748\ttest: 480.2069895\tbest: 480.2069895 (500)\ttotal: 16m 39s\tremaining: 16m 35s\n",
      "600:\tlearn: 511.4837017\ttest: 452.2259109\tbest: 452.2259109 (600)\ttotal: 19m 26s\tremaining: 12m 54s\n",
      "700:\tlearn: 488.5149279\ttest: 433.0790281\tbest: 433.0790281 (700)\ttotal: 22m 35s\tremaining: 9m 38s\n",
      "800:\tlearn: 473.3124296\ttest: 420.3959653\tbest: 420.3959653 (800)\ttotal: 26m 20s\tremaining: 6m 35s\n",
      "900:\tlearn: 461.7323747\ttest: 412.6823560\tbest: 412.6823560 (900)\ttotal: 29m 35s\tremaining: 3m 15s\n",
      "999:\tlearn: 454.7834509\ttest: 406.5196798\tbest: 406.5196798 (999)\ttotal: 32m 58s\tremaining: 0us\n",
      "\n",
      "bestTest = 406.5196798\n",
      "bestIteration = 999\n",
      "\n",
      "Training MAE: 176.29978233967086\n"
     ]
    }
   ],
   "source": [
    "# CatBoostRegressor\n",
    "model_2 = CatBoostRegressor(verbose=100, \n",
    "                          eval_metric='RMSE',\n",
    "                          random_state=42\n",
    "                         )\n",
    "\n",
    "model_2.fit(train[features], train[target],\n",
    "          cat_features=features,\n",
    "          eval_set=(val[features],val[target])\n",
    "         )\n",
    "\n",
    "y_pred_training = model_2.predict(val[features])\n",
    "print(\"Training MAE:\", mean_absolute_error(val[target], y_pred_training))"
   ]
  },
  {
   "cell_type": "code",
   "execution_count": 420,
   "id": "b813cabd",
   "metadata": {},
   "outputs": [
    {
     "name": "stdout",
     "output_type": "stream",
     "text": [
      "Training MAE: 826.6015796976708\n"
     ]
    }
   ],
   "source": [
    "df_top = df[df['CLAIM_SPECIALTY'].isin(top_specialty.index)]\n",
    "print(\"Training MAE:\", mean_absolute_error(df[target], y_pred_training))"
   ]
  },
  {
   "cell_type": "markdown",
   "id": "ee26a90e",
   "metadata": {},
   "source": [
    "# MAE is decreased after Bootstrap"
   ]
  },
  {
   "cell_type": "markdown",
   "id": "21919e20",
   "metadata": {},
   "source": [
    "# Forecast for 6 months"
   ]
  },
  {
   "cell_type": "code",
   "execution_count": 22,
   "id": "0c39eca7",
   "metadata": {},
   "outputs": [
    {
     "data": {
      "text/plain": [
       "<AxesSubplot:xlabel='date'>"
      ]
     },
     "execution_count": 22,
     "metadata": {},
     "output_type": "execute_result"
    },
    {
     "data": {
      "image/png": "[encoded data removed]",
      "text/plain": [
       "<Figure size 432x288 with 1 Axes>"
      ]
     },
     "metadata": {
      "needs_background": "light"
     },
     "output_type": "display_data"
    }
   ],
   "source": [
    "df.groupby('date')['PAID_AMOUNT'].agg('count').plot()"
   ]
  },
  {
   "cell_type": "markdown",
   "id": "4bd8ac09",
   "metadata": {},
   "source": [
    "## The main question is: is the data for 2020-06 valid or is it a mistake?"
   ]
  },
  {
   "cell_type": "code",
   "execution_count": 30,
   "id": "ca8916f2",
   "metadata": {},
   "outputs": [
    {
     "data": {
      "text/html": [
       "<div>\n",
       "<style scoped>\n",
       "    .dataframe tbody tr th:only-of-type {\n",
       "        vertical-align: middle;\n",
       "    }\n",
       "\n",
       "    .dataframe tbody tr th {\n",
       "        vertical-align: top;\n",
       "    }\n",
       "\n",
       "    .dataframe thead th {\n",
       "        text-align: right;\n",
       "    }\n",
       "</style>\n",
       "<table border=\"1\" class=\"dataframe\">\n",
       "  <thead>\n",
       "    <tr style=\"text-align: right;\">\n",
       "      <th></th>\n",
       "      <th></th>\n",
       "      <th></th>\n",
       "      <th>count</th>\n",
       "      <th>mean</th>\n",
       "    </tr>\n",
       "    <tr>\n",
       "      <th>SERVICE_CATEGORY</th>\n",
       "      <th>CLAIM_SPECIALTY</th>\n",
       "      <th>PAYER</th>\n",
       "      <th></th>\n",
       "      <th></th>\n",
       "    </tr>\n",
       "  </thead>\n",
       "  <tbody>\n",
       "    <tr>\n",
       "      <th>ASCServices</th>\n",
       "      <th>AMBULATORY SURGERY CENTER</th>\n",
       "      <th>Payer B</th>\n",
       "      <td>1</td>\n",
       "      <td>625.0</td>\n",
       "    </tr>\n",
       "    <tr>\n",
       "      <th rowspan=\"4\" valign=\"top\">SNFServices</th>\n",
       "      <th>Family Practice</th>\n",
       "      <th>Payer B</th>\n",
       "      <td>1</td>\n",
       "      <td>192.0</td>\n",
       "    </tr>\n",
       "    <tr>\n",
       "      <th rowspan=\"3\" valign=\"top\">FAMILY PRACTICE</th>\n",
       "      <th>Payer O</th>\n",
       "      <td>1</td>\n",
       "      <td>424.0</td>\n",
       "    </tr>\n",
       "    <tr>\n",
       "      <th>Payer F</th>\n",
       "      <td>1</td>\n",
       "      <td>1524.0</td>\n",
       "    </tr>\n",
       "    <tr>\n",
       "      <th>Payer CA</th>\n",
       "      <td>1</td>\n",
       "      <td>320.0</td>\n",
       "    </tr>\n",
       "    <tr>\n",
       "      <th>...</th>\n",
       "      <th>...</th>\n",
       "      <th>...</th>\n",
       "      <td>...</td>\n",
       "      <td>...</td>\n",
       "    </tr>\n",
       "    <tr>\n",
       "      <th rowspan=\"4\" valign=\"top\">InpatientServices</th>\n",
       "      <th rowspan=\"2\" valign=\"top\">CARDIOLOGY</th>\n",
       "      <th>Payer F</th>\n",
       "      <td>1</td>\n",
       "      <td>5880.0</td>\n",
       "    </tr>\n",
       "    <tr>\n",
       "      <th>Payer CA</th>\n",
       "      <td>1</td>\n",
       "      <td>1057.0</td>\n",
       "    </tr>\n",
       "    <tr>\n",
       "      <th rowspan=\"2\" valign=\"top\">CARDIAC ELECTROPHYSIOLOGY</th>\n",
       "      <th>Payer W</th>\n",
       "      <td>1</td>\n",
       "      <td>184.0</td>\n",
       "    </tr>\n",
       "    <tr>\n",
       "      <th>Payer O</th>\n",
       "      <td>1</td>\n",
       "      <td>418.0</td>\n",
       "    </tr>\n",
       "    <tr>\n",
       "      <th>SpecialistFFS</th>\n",
       "      <th>Vascular Surgery</th>\n",
       "      <th>Payer B</th>\n",
       "      <td>1</td>\n",
       "      <td>456.0</td>\n",
       "    </tr>\n",
       "  </tbody>\n",
       "</table>\n",
       "<p>1201 rows × 2 columns</p>\n",
       "</div>"
      ],
      "text/plain": [
       "                                                      count    mean\n",
       "SERVICE_CATEGORY  CLAIM_SPECIALTY           PAYER                  \n",
       "ASCServices       AMBULATORY SURGERY CENTER Payer B       1   625.0\n",
       "SNFServices       Family Practice           Payer B       1   192.0\n",
       "                  FAMILY PRACTICE           Payer O       1   424.0\n",
       "                                            Payer F       1  1524.0\n",
       "                                            Payer CA      1   320.0\n",
       "...                                                     ...     ...\n",
       "InpatientServices CARDIOLOGY                Payer F       1  5880.0\n",
       "                                            Payer CA      1  1057.0\n",
       "                  CARDIAC ELECTROPHYSIOLOGY Payer W       1   184.0\n",
       "                                            Payer O       1   418.0\n",
       "SpecialistFFS     Vascular Surgery          Payer B       1   456.0\n",
       "\n",
       "[1201 rows x 2 columns]"
      ]
     },
     "execution_count": 30,
     "metadata": {},
     "output_type": "execute_result"
    }
   ],
   "source": [
    "t = df[df.date == '2020-06-01']\n",
    "(t.groupby(['SERVICE_CATEGORY', 'CLAIM_SPECIALTY', 'PAYER'])['PAID_AMOUNT']\n",
    " .agg(['count', 'mean'])\n",
    " .sort_values(by='count', ascending=False)\n",
    ")"
   ]
  },
  {
   "cell_type": "code",
   "execution_count": 33,
   "id": "dc0ed990",
   "metadata": {},
   "outputs": [
    {
     "data": {
      "text/html": [
       "<div>\n",
       "<style scoped>\n",
       "    .dataframe tbody tr th:only-of-type {\n",
       "        vertical-align: middle;\n",
       "    }\n",
       "\n",
       "    .dataframe tbody tr th {\n",
       "        vertical-align: top;\n",
       "    }\n",
       "\n",
       "    .dataframe thead th {\n",
       "        text-align: right;\n",
       "    }\n",
       "</style>\n",
       "<table border=\"1\" class=\"dataframe\">\n",
       "  <thead>\n",
       "    <tr style=\"text-align: right;\">\n",
       "      <th></th>\n",
       "      <th></th>\n",
       "      <th></th>\n",
       "      <th>count</th>\n",
       "      <th>mean</th>\n",
       "    </tr>\n",
       "    <tr>\n",
       "      <th>SERVICE_CATEGORY</th>\n",
       "      <th>CLAIM_SPECIALTY</th>\n",
       "      <th>PAYER</th>\n",
       "      <th></th>\n",
       "      <th></th>\n",
       "    </tr>\n",
       "  </thead>\n",
       "  <tbody>\n",
       "    <tr>\n",
       "      <th>ASCServices</th>\n",
       "      <th>AMBULATORY SURGERY CENTER</th>\n",
       "      <th>Payer B</th>\n",
       "      <td>1</td>\n",
       "      <td>1355.0</td>\n",
       "    </tr>\n",
       "    <tr>\n",
       "      <th rowspan=\"4\" valign=\"top\">PCPFFS</th>\n",
       "      <th>Family Practice</th>\n",
       "      <th>Payer B</th>\n",
       "      <td>1</td>\n",
       "      <td>405.0</td>\n",
       "    </tr>\n",
       "    <tr>\n",
       "      <th>INTERNAL MEDICINE</th>\n",
       "      <th>Payer B</th>\n",
       "      <td>1</td>\n",
       "      <td>1031.0</td>\n",
       "    </tr>\n",
       "    <tr>\n",
       "      <th>Hospitalist</th>\n",
       "      <th>Payer UN</th>\n",
       "      <td>1</td>\n",
       "      <td>456.0</td>\n",
       "    </tr>\n",
       "    <tr>\n",
       "      <th>General Surgery</th>\n",
       "      <th>Payer UN</th>\n",
       "      <td>1</td>\n",
       "      <td>259.0</td>\n",
       "    </tr>\n",
       "    <tr>\n",
       "      <th>...</th>\n",
       "      <th>...</th>\n",
       "      <th>...</th>\n",
       "      <td>...</td>\n",
       "      <td>...</td>\n",
       "    </tr>\n",
       "    <tr>\n",
       "      <th rowspan=\"2\" valign=\"top\">InpatientServices</th>\n",
       "      <th>ADVANCED REGISTERED NURSE PRACTITIONER</th>\n",
       "      <th>Payer B</th>\n",
       "      <td>1</td>\n",
       "      <td>141.0</td>\n",
       "    </tr>\n",
       "    <tr>\n",
       "      <th>ADLMED</th>\n",
       "      <th>Payer W</th>\n",
       "      <td>1</td>\n",
       "      <td>661.0</td>\n",
       "    </tr>\n",
       "    <tr>\n",
       "      <th rowspan=\"2\" valign=\"top\">ERServices</th>\n",
       "      <th>WOUNDCARE PHYSICIAN</th>\n",
       "      <th>Payer CA</th>\n",
       "      <td>1</td>\n",
       "      <td>413.0</td>\n",
       "    </tr>\n",
       "    <tr>\n",
       "      <th>VASCULAR SURGERY</th>\n",
       "      <th>Payer CA</th>\n",
       "      <td>1</td>\n",
       "      <td>88.0</td>\n",
       "    </tr>\n",
       "    <tr>\n",
       "      <th>SpecialistFFS</th>\n",
       "      <th>WOUND CARE SPECIALISTS</th>\n",
       "      <th>Payer F</th>\n",
       "      <td>1</td>\n",
       "      <td>60.0</td>\n",
       "    </tr>\n",
       "  </tbody>\n",
       "</table>\n",
       "<p>1500 rows × 2 columns</p>\n",
       "</div>"
      ],
      "text/plain": [
       "                                                                   count  \\\n",
       "SERVICE_CATEGORY  CLAIM_SPECIALTY                        PAYER             \n",
       "ASCServices       AMBULATORY SURGERY CENTER              Payer B       1   \n",
       "PCPFFS            Family Practice                        Payer B       1   \n",
       "                  INTERNAL MEDICINE                      Payer B       1   \n",
       "                  Hospitalist                            Payer UN      1   \n",
       "                  General Surgery                        Payer UN      1   \n",
       "...                                                                  ...   \n",
       "InpatientServices ADVANCED REGISTERED NURSE PRACTITIONER Payer B       1   \n",
       "                  ADLMED                                 Payer W       1   \n",
       "ERServices        WOUNDCARE PHYSICIAN                    Payer CA      1   \n",
       "                  VASCULAR SURGERY                       Payer CA      1   \n",
       "SpecialistFFS     WOUND CARE SPECIALISTS                 Payer F       1   \n",
       "\n",
       "                                                                     mean  \n",
       "SERVICE_CATEGORY  CLAIM_SPECIALTY                        PAYER             \n",
       "ASCServices       AMBULATORY SURGERY CENTER              Payer B   1355.0  \n",
       "PCPFFS            Family Practice                        Payer B    405.0  \n",
       "                  INTERNAL MEDICINE                      Payer B   1031.0  \n",
       "                  Hospitalist                            Payer UN   456.0  \n",
       "                  General Surgery                        Payer UN   259.0  \n",
       "...                                                                   ...  \n",
       "InpatientServices ADVANCED REGISTERED NURSE PRACTITIONER Payer B    141.0  \n",
       "                  ADLMED                                 Payer W    661.0  \n",
       "ERServices        WOUNDCARE PHYSICIAN                    Payer CA   413.0  \n",
       "                  VASCULAR SURGERY                       Payer CA    88.0  \n",
       "SpecialistFFS     WOUND CARE SPECIALISTS                 Payer F     60.0  \n",
       "\n",
       "[1500 rows x 2 columns]"
      ]
     },
     "execution_count": 33,
     "metadata": {},
     "output_type": "execute_result"
    }
   ],
   "source": [
    "t = df[df.date == '2020-05-01']\n",
    "(t.groupby(['SERVICE_CATEGORY', 'CLAIM_SPECIALTY', 'PAYER'])['PAID_AMOUNT']\n",
    " .agg(['count', 'mean'])\n",
    " .sort_values(by='count', ascending=False)\n",
    ")"
   ]
  },
  {
   "cell_type": "markdown",
   "id": "5b2017c3",
   "metadata": {},
   "source": [
    "## Data looks like True for 2020-06"
   ]
  },
  {
   "cell_type": "markdown",
   "id": "982b58d6",
   "metadata": {},
   "source": [
    "# Forecasting "
   ]
  },
  {
   "cell_type": "code",
   "execution_count": 34,
   "id": "d113cd8e",
   "metadata": {},
   "outputs": [
    {
     "data": {
      "text/plain": [
       "array(['2018-01-01T00:00:00.000000000', '2018-02-01T00:00:00.000000000',\n",
       "       '2018-03-01T00:00:00.000000000', '2018-04-01T00:00:00.000000000',\n",
       "       '2018-05-01T00:00:00.000000000', '2018-06-01T00:00:00.000000000',\n",
       "       '2018-07-01T00:00:00.000000000', '2018-08-01T00:00:00.000000000',\n",
       "       '2018-09-01T00:00:00.000000000', '2018-10-01T00:00:00.000000000',\n",
       "       '2018-11-01T00:00:00.000000000', '2018-12-01T00:00:00.000000000',\n",
       "       '2019-01-01T00:00:00.000000000', '2019-02-01T00:00:00.000000000',\n",
       "       '2019-03-01T00:00:00.000000000', '2019-04-01T00:00:00.000000000',\n",
       "       '2019-05-01T00:00:00.000000000', '2019-06-01T00:00:00.000000000',\n",
       "       '2019-07-01T00:00:00.000000000', '2019-08-01T00:00:00.000000000',\n",
       "       '2019-09-01T00:00:00.000000000', '2019-10-01T00:00:00.000000000',\n",
       "       '2019-11-01T00:00:00.000000000', '2019-12-01T00:00:00.000000000',\n",
       "       '2020-01-01T00:00:00.000000000', '2020-02-01T00:00:00.000000000',\n",
       "       '2020-03-01T00:00:00.000000000', '2020-04-01T00:00:00.000000000',\n",
       "       '2020-05-01T00:00:00.000000000', '2020-06-01T00:00:00.000000000'],\n",
       "      dtype='datetime64[ns]')"
      ]
     },
     "execution_count": 34,
     "metadata": {},
     "output_type": "execute_result"
    }
   ],
   "source": [
    "df.date.unique()"
   ]
  },
  {
   "cell_type": "code",
   "execution_count": 36,
   "id": "04a1ba52",
   "metadata": {},
   "outputs": [],
   "source": [
    "dates = ['2020-01-01', '2020-02-01', '2020-03-01', '2020-04-01', '2020-05-01', '2020-06-01']"
   ]
  },
  {
   "cell_type": "code",
   "execution_count": 49,
   "id": "1c649a4c",
   "metadata": {},
   "outputs": [
    {
     "data": {
      "text/plain": [
       "date\n",
       "2020-01-01    1597\n",
       "2020-02-01    1545\n",
       "2020-03-01    1597\n",
       "2020-04-01    1409\n",
       "2020-05-01    1500\n",
       "2020-06-01    1201\n",
       "Name: PAID_AMOUNT, dtype: int64"
      ]
     },
     "execution_count": 49,
     "metadata": {},
     "output_type": "execute_result"
    }
   ],
   "source": [
    "tt = df[df['date'].isin(dates)].groupby('date')['PAID_AMOUNT'].agg('count')\n",
    "tt"
   ]
  },
  {
   "cell_type": "code",
   "execution_count": null,
   "id": "3e87bfec",
   "metadata": {},
   "outputs": [],
   "source": [
    "for _ in range(5000):\n",
    "        x = np.random.choice(t['PAID_AMOUNT'], size=round(len(t['PAID_AMOUNT'])), replace=True)\n",
    "        my_lst.append([lst[0], lst[1], lst[2], x.mean()])"
   ]
  },
  {
   "cell_type": "code",
   "execution_count": 92,
   "id": "cc4674a9",
   "metadata": {},
   "outputs": [],
   "source": [
    "pred_counts = []\n",
    "\n",
    "for _ in range(5000):\n",
    "    x = np.random.choice(tt.values,\n",
    "                         size=len(tt), \n",
    "                         replace=True, \n",
    "                         p=[0.1, 0.1, 0.1, 0.1, 0.1, 0.5])\n",
    "    pred_counts.append(x.mean())"
   ]
  },
  {
   "cell_type": "code",
   "execution_count": 93,
   "id": "906ff7c5",
   "metadata": {},
   "outputs": [
    {
     "data": {
      "image/png": "[encoded data removed]",
      "text/plain": [
       "<Figure size 432x288 with 1 Axes>"
      ]
     },
     "metadata": {
      "needs_background": "light"
     },
     "output_type": "display_data"
    }
   ],
   "source": [
    "plt.hist(pred_counts, alpha=0.5);"
   ]
  },
  {
   "cell_type": "code",
   "execution_count": 124,
   "id": "b4a0a05f",
   "metadata": {},
   "outputs": [
    {
     "data": {
      "text/html": [
       "<div>\n",
       "<style scoped>\n",
       "    .dataframe tbody tr th:only-of-type {\n",
       "        vertical-align: middle;\n",
       "    }\n",
       "\n",
       "    .dataframe tbody tr th {\n",
       "        vertical-align: top;\n",
       "    }\n",
       "\n",
       "    .dataframe thead th {\n",
       "        text-align: right;\n",
       "    }\n",
       "</style>\n",
       "<table border=\"1\" class=\"dataframe\">\n",
       "  <thead>\n",
       "    <tr style=\"text-align: right;\">\n",
       "      <th></th>\n",
       "      <th>SERVICE_CATEGORY</th>\n",
       "      <th>CLAIM_SPECIALTY</th>\n",
       "      <th>PAYER</th>\n",
       "      <th>date</th>\n",
       "      <th>SEASON</th>\n",
       "      <th>PAID_AMOUNT</th>\n",
       "    </tr>\n",
       "  </thead>\n",
       "  <tbody>\n",
       "    <tr>\n",
       "      <th>50337</th>\n",
       "      <td>SpecialistFFS</td>\n",
       "      <td>General Surgery</td>\n",
       "      <td>Payer UN</td>\n",
       "      <td>2020-07-01</td>\n",
       "      <td>summer</td>\n",
       "      <td>1115.223640</td>\n",
       "    </tr>\n",
       "    <tr>\n",
       "      <th>50699</th>\n",
       "      <td>SpecialistFFS</td>\n",
       "      <td>Sleep Medicine</td>\n",
       "      <td>Payer S</td>\n",
       "      <td>2020-07-01</td>\n",
       "      <td>summer</td>\n",
       "      <td>311.879268</td>\n",
       "    </tr>\n",
       "    <tr>\n",
       "      <th>50014</th>\n",
       "      <td>OutpatientServices</td>\n",
       "      <td>HOSPITAL ACUTE CARE</td>\n",
       "      <td>Payer B</td>\n",
       "      <td>2020-07-01</td>\n",
       "      <td>summer</td>\n",
       "      <td>2366.504647</td>\n",
       "    </tr>\n",
       "    <tr>\n",
       "      <th>50524</th>\n",
       "      <td>SpecialistFFS</td>\n",
       "      <td>INFUSION PROVIDER</td>\n",
       "      <td>Payer F</td>\n",
       "      <td>2020-07-01</td>\n",
       "      <td>summer</td>\n",
       "      <td>3754.228244</td>\n",
       "    </tr>\n",
       "    <tr>\n",
       "      <th>50341</th>\n",
       "      <td>SpecialistFFS</td>\n",
       "      <td>Internal Medicine</td>\n",
       "      <td>Payer UN</td>\n",
       "      <td>2020-07-01</td>\n",
       "      <td>summer</td>\n",
       "      <td>3817.562898</td>\n",
       "    </tr>\n",
       "    <tr>\n",
       "      <th>...</th>\n",
       "      <td>...</td>\n",
       "      <td>...</td>\n",
       "      <td>...</td>\n",
       "      <td>...</td>\n",
       "      <td>...</td>\n",
       "      <td>...</td>\n",
       "    </tr>\n",
       "    <tr>\n",
       "      <th>49560</th>\n",
       "      <td>ERServices</td>\n",
       "      <td>FAMILY PRACTICE</td>\n",
       "      <td>Payer F</td>\n",
       "      <td>2020-12-01</td>\n",
       "      <td>winter</td>\n",
       "      <td>2697.031890</td>\n",
       "    </tr>\n",
       "    <tr>\n",
       "      <th>50113</th>\n",
       "      <td>OutpatientServices</td>\n",
       "      <td>PULMONARY DISEASES</td>\n",
       "      <td>Payer W</td>\n",
       "      <td>2020-12-01</td>\n",
       "      <td>winter</td>\n",
       "      <td>439.112366</td>\n",
       "    </tr>\n",
       "    <tr>\n",
       "      <th>49868</th>\n",
       "      <td>InpatientServices</td>\n",
       "      <td>Pulmonology</td>\n",
       "      <td>Payer UN</td>\n",
       "      <td>2020-12-01</td>\n",
       "      <td>winter</td>\n",
       "      <td>956.682095</td>\n",
       "    </tr>\n",
       "    <tr>\n",
       "      <th>50574</th>\n",
       "      <td>SpecialistFFS</td>\n",
       "      <td>NPFAM</td>\n",
       "      <td>Payer W</td>\n",
       "      <td>2020-12-01</td>\n",
       "      <td>winter</td>\n",
       "      <td>188.043100</td>\n",
       "    </tr>\n",
       "    <tr>\n",
       "      <th>49111</th>\n",
       "      <td>AncillaryFFS</td>\n",
       "      <td>CARDIOLOGY</td>\n",
       "      <td>Payer O</td>\n",
       "      <td>2020-12-01</td>\n",
       "      <td>winter</td>\n",
       "      <td>580.341417</td>\n",
       "    </tr>\n",
       "  </tbody>\n",
       "</table>\n",
       "<p>8115 rows × 6 columns</p>\n",
       "</div>"
      ],
      "text/plain": [
       "         SERVICE_CATEGORY      CLAIM_SPECIALTY     PAYER       date  SEASON  \\\n",
       "50337       SpecialistFFS      General Surgery  Payer UN 2020-07-01  summer   \n",
       "50699       SpecialistFFS       Sleep Medicine   Payer S 2020-07-01  summer   \n",
       "50014  OutpatientServices  HOSPITAL ACUTE CARE   Payer B 2020-07-01  summer   \n",
       "50524       SpecialistFFS    INFUSION PROVIDER   Payer F 2020-07-01  summer   \n",
       "50341       SpecialistFFS    Internal Medicine  Payer UN 2020-07-01  summer   \n",
       "...                   ...                  ...       ...        ...     ...   \n",
       "49560          ERServices      FAMILY PRACTICE   Payer F 2020-12-01  winter   \n",
       "50113  OutpatientServices   PULMONARY DISEASES   Payer W 2020-12-01  winter   \n",
       "49868   InpatientServices          Pulmonology  Payer UN 2020-12-01  winter   \n",
       "50574       SpecialistFFS                NPFAM   Payer W 2020-12-01  winter   \n",
       "49111        AncillaryFFS           CARDIOLOGY   Payer O 2020-12-01  winter   \n",
       "\n",
       "       PAID_AMOUNT  \n",
       "50337  1115.223640  \n",
       "50699   311.879268  \n",
       "50014  2366.504647  \n",
       "50524  3754.228244  \n",
       "50341  3817.562898  \n",
       "...            ...  \n",
       "49560  2697.031890  \n",
       "50113   439.112366  \n",
       "49868   956.682095  \n",
       "50574   188.043100  \n",
       "49111   580.341417  \n",
       "\n",
       "[8115 rows x 6 columns]"
      ]
     },
     "execution_count": 124,
     "metadata": {},
     "output_type": "execute_result"
    }
   ],
   "source": [
    "df_pred = pd.DataFrame(columns=['SERVICE_CATEGORY', 'CLAIM_SPECIALTY', 'PAYER'])\n",
    "\n",
    "\n",
    "cnt = 6\n",
    "for i in range(1,7):\n",
    "    sample = (t.sample(n=round(np.random.choice(pred_count, size=1)[0]), \n",
    "                  replace=True, \n",
    "                  random_state=42)\n",
    "         [['SERVICE_CATEGORY', 'CLAIM_SPECIALTY', 'PAYER']]\n",
    "         )\n",
    "    cnt+=1\n",
    "    \n",
    "    sample['date'] = str(cnt)\n",
    "    df_pred = pd.concat([df_pred,sample])\n",
    "        \n",
    "df_pred['SEASON'] = (df_pred['date']\n",
    "                    .replace(['12','1','2'],'winter')\n",
    "                    .replace(['3','4','5'],'spring')\n",
    "                    .replace(['6','7','8'],'summer')\n",
    "                    .replace(['9','10','11'],'autumn')\n",
    "                    )\n",
    "\n",
    "df_pred['date'] = (df_pred['date']\n",
    "                   .replace(['7'],'2020-07')\n",
    "                   .replace(['8'],'2020-08')\n",
    "                   .replace(['9'],'2020-09')\n",
    "                   .replace(['10'],'2020-10')\n",
    "                   .replace(['11'],'2020-11')\n",
    "                   .replace(['12'],'2020-12')\n",
    "                  )\n",
    "                   \n",
    "df_pred['date'] = pd.to_datetime(df_pred['date'], format='%Y-%m')\n",
    "                     \n",
    "df_pred['PAID_AMOUNT'] = model_1.predict(df_pred[['SERVICE_CATEGORY', 'CLAIM_SPECIALTY', 'PAYER', 'SEASON']])\n",
    "df_pred"
   ]
  },
  {
   "cell_type": "code",
   "execution_count": 161,
   "id": "f0c255cd",
   "metadata": {},
   "outputs": [
    {
     "data": {
      "image/png": "[encoded data removed]",
      "text/plain": [
       "<Figure size 1152x648 with 1 Axes>"
      ]
     },
     "metadata": {
      "needs_background": "light"
     },
     "output_type": "display_data"
    }
   ],
   "source": [
    "# Plot real date + forecasted 6 months\n",
    "Y = pd.concat([df[['date','SERVICE_CATEGORY', 'CLAIM_SPECIALTY', 'PAYER', 'SEASON','PAID_AMOUNT']],\n",
    "               df_pred]\n",
    "             )\n",
    "Y.set_index('date', inplace=True)\n",
    "\n",
    "\n",
    "x = Y.groupby(Y.index)['PAID_AMOUNT'].agg(['sum']).index\n",
    "y = Y.groupby(Y.index)['PAID_AMOUNT'].agg(['sum']).values\n",
    "plt.figure(figsize=(16,9))\n",
    "plt.plot(x,y)\n",
    "\n",
    "plt.xlabel(\"date\")\n",
    "plt.ylabel(\"sum\")\n",
    "plt.title('value of payments');"
   ]
  },
  {
   "cell_type": "code",
   "execution_count": null,
   "id": "5b00e6ce",
   "metadata": {},
   "outputs": [],
   "source": []
  }
 ],
 "metadata": {
  "kernelspec": {
   "display_name": "Python 3 (ipykernel)",
   "language": "python",
   "name": "python3"
  },
  "language_info": {
   "codemirror_mode": {
    "name": "ipython",
    "version": 3
   },
   "file_extension": ".py",
   "mimetype": "text/x-python",
   "name": "python",
   "nbconvert_exporter": "python",
   "pygments_lexer": "ipython3",
   "version": "3.9.7"
  }
 },
 "nbformat": 4,
 "nbformat_minor": 5
}
